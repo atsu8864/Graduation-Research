{
  "nbformat": 4,
  "nbformat_minor": 0,
  "metadata": {
    "accelerator": "GPU",
    "colab": {
      "name": "usb.ipynb ",
      "provenance": [],
      "collapsed_sections": [],
      "toc_visible": true,
      "mount_file_id": "1Dcriba_FrGB_59LFvkbRtxTH50TFJPCd",
      "authorship_tag": "ABX9TyPKERApdR81RGPrVCwntxlz",
      "include_colab_link": true
    },
    "kernelspec": {
      "display_name": "Python 3",
      "name": "python3"
    }
  },
  "cells": [
    {
      "cell_type": "markdown",
      "metadata": {
        "id": "view-in-github",
        "colab_type": "text"
      },
      "source": [
        "<a href=\"https://colab.research.google.com/github/atsu8864/Graduation-Research/blob/main/usb.ipynb\" target=\"_parent\"><img src=\"https://colab.research.google.com/assets/colab-badge.svg\" alt=\"Open In Colab\"/></a>"
      ]
    },
    {
      "cell_type": "code",
      "metadata": {
        "colab": {
          "base_uri": "https://localhost:8080/"
        },
        "id": "Bg85Tc7vSevN",
        "outputId": "ce7f75db-f10d-43ee-bfad-44009d5212fe"
      },
      "source": [
        "!pwd\n",
        "os.chdir('./sample_data')\n",
        "os.mkdir('./dataset')\n",
        "os.chdir('./dataset')"
      ],
      "execution_count": null,
      "outputs": [
        {
          "output_type": "stream",
          "text": [
            "/content\n"
          ],
          "name": "stdout"
        }
      ]
    },
    {
      "cell_type": "code",
      "metadata": {
        "colab": {
          "base_uri": "https://localhost:8080/"
        },
        "id": "9us_FA4yScbH",
        "outputId": "2d506bf9-3d1d-4727-b718-291a95678698"
      },
      "source": [
        "import os\n",
        "import glob\n",
        "DIR = '/content/sample_data/usb/usb3-a'\n",
        "\n",
        "print(sum(os.path.isfile(os.path.join(DIR, name)) for name in os.listdir(DIR)))\n",
        "\n",
        "\n",
        "print(len(glob.glob('./usb/usb-c/*.jpg')))"
      ],
      "execution_count": null,
      "outputs": [
        {
          "output_type": "stream",
          "text": [
            "101\n",
            "100\n"
          ],
          "name": "stdout"
        }
      ]
    },
    {
      "cell_type": "code",
      "metadata": {
        "id": "lQcWHwGDRtLj"
      },
      "source": [
        "# import shutil\n",
        "# shutil.rmtree('/content/sample_data/dataset')"
      ],
      "execution_count": null,
      "outputs": []
    },
    {
      "cell_type": "code",
      "metadata": {
        "cellView": "form",
        "id": "FBix2ckRay2x"
      },
      "source": [
        "#@title #downloaded stl10_data\n",
        "\n",
        "\n",
        "from __future__ import print_function\n",
        "\n",
        "import sys\n",
        "import os, sys, tarfile, errno\n",
        "import numpy as np\n",
        "import matplotlib.pyplot as plt\n",
        "    \n",
        "if sys.version_info >= (3, 0, 0):\n",
        "    import urllib.request as urllib # ugly but works\n",
        "else:\n",
        "    import urllib\n",
        "\n",
        "try:\n",
        "    from imageio import imsave\n",
        "except:\n",
        "    from scipy.misc import imsave\n",
        "\n",
        "print(sys.version_info) \n",
        "\n",
        "# image shape\n",
        "HEIGHT = 96\n",
        "WIDTH = 96\n",
        "DEPTH = 3\n",
        "\n",
        "# size of a single image in bytes\n",
        "SIZE = HEIGHT * WIDTH * DEPTH\n",
        "\n",
        "# path to the directory with the data\n",
        "DATA_DIR = './data'\n",
        "\n",
        "# url of the binary data\n",
        "DATA_URL = 'http://ai.stanford.edu/~acoates/stl10/stl10_binary.tar.gz'\n",
        "\n",
        "# path to the binary train file with image data\n",
        "TRAIN_DATA_PATH = './data/stl10_binary/train_X.bin'\n",
        "\n",
        "# path to the binary train file with labels\n",
        "TRAIN_LABEL_PATH = './data/stl10_binary/train_y.bin'\n",
        "\n",
        "TEST_DATA_PATH = './data/stl10_binary/test_X.bin'\n",
        "TEST_LABEL_PATH = './data/stl10_binary/test_y.bin'\n",
        "def read_labels(path_to_labels):\n",
        "    \"\"\"\n",
        "    :param path_to_labels: path to the binary file containing labels from the STL-10 dataset\n",
        "    :return: an array containing the labels\n",
        "    \"\"\"\n",
        "    with open(path_to_labels, 'rb') as f:\n",
        "        labels = np.fromfile(f, dtype=np.uint8)\n",
        "        return labels\n",
        "\n",
        "\n",
        "def read_all_images(path_to_data):\n",
        "    \"\"\"\n",
        "    :param path_to_data: the file containing the binary images from the STL-10 dataset\n",
        "    :return: an array containing all the images\n",
        "    \"\"\"\n",
        "\n",
        "    with open(path_to_data, 'rb') as f:\n",
        "        # read whole file in uint8 chunks\n",
        "        everything = np.fromfile(f, dtype=np.uint8)\n",
        "\n",
        "        # We force the data into 3x96x96 chunks, since the\n",
        "        # images are stored in \"column-major order\", meaning\n",
        "        # that \"the first 96*96 values are the red channel,\n",
        "        # the next 96*96 are green, and the last are blue.\"\n",
        "        # The -1 is since the size of the pictures depends\n",
        "        # on the input file, and this way numpy determines\n",
        "        # the size on its own.\n",
        "\n",
        "        images = np.reshape(everything, (-1, 3, 96, 96))\n",
        "\n",
        "        # Now transpose the images into a standard image format\n",
        "        # readable by, for example, matplotlib.imshow\n",
        "        # You might want to comment this line or reverse the shuffle\n",
        "        # if you will use a learning algorithm like CNN, since they like\n",
        "        # their channels separated.\n",
        "        images = np.transpose(images, (0, 3, 2, 1))\n",
        "        return images\n",
        "\n",
        "\n",
        "def read_single_image(image_file):\n",
        "    \"\"\"\n",
        "    CAREFUL! - this method uses a file as input instead of the path - so the\n",
        "    position of the reader will be remembered outside of context of this method.\n",
        "    :param image_file: the open file containing the images\n",
        "    :return: a single image\n",
        "    \"\"\"\n",
        "    # read a single image, count determines the number of uint8's to read\n",
        "    image = np.fromfile(image_file, dtype=np.uint8, count=SIZE)\n",
        "    # force into image matrix\n",
        "    image = np.reshape(image, (3, 96, 96))\n",
        "    # transpose to standard format\n",
        "    # You might want to comment this line or reverse the shuffle\n",
        "    # if you will use a learning algorithm like CNN, since they like\n",
        "    # their channels separated.\n",
        "    image = np.transpose(image, (2, 1, 0))\n",
        "    return image\n",
        "\n",
        "\n",
        "def plot_image(image):\n",
        "    \"\"\"\n",
        "    :param image: the image to be plotted in a 3-D matrix format\n",
        "    :return: None\n",
        "    \"\"\"\n",
        "    plt.imshow(image)\n",
        "    plt.show()\n",
        "\n",
        "def save_image(image, name):\n",
        "    imsave(\"%s.png\" % name, image, format=\"png\")\n",
        "\n",
        "def download_and_extract():\n",
        "    \"\"\"\n",
        "    Download and extract the STL-10 dataset\n",
        "    :return: None\n",
        "    \"\"\"\n",
        "    dest_directory = DATA_DIR\n",
        "    if not os.path.exists(dest_directory):\n",
        "        os.makedirs(dest_directory)\n",
        "    filename = DATA_URL.split('/')[-1]\n",
        "    filepath = os.path.join(dest_directory, filename)\n",
        "    if not os.path.exists(filepath):\n",
        "        def _progress(count, block_size, total_size):\n",
        "            sys.stdout.write('\\rDownloading %s %.2f%%' % (filename,\n",
        "                float(count * block_size) / float(total_size) * 100.0))\n",
        "            sys.stdout.flush()\n",
        "        filepath, _ = urllib.urlretrieve(DATA_URL, filepath, reporthook=_progress)\n",
        "        print('Downloaded', filename)\n",
        "        tarfile.open(filepath, 'r:gz').extractall(dest_directory)\n",
        "\n",
        "def save_images(images, labels, a):\n",
        "    print(\"Saving images to disk\")\n",
        "    i = 0\n",
        "    for image in images:\n",
        "        label = labels[i]\n",
        "        directory = './img_' + a + '/' + str(label) + '/'\n",
        "        try:\n",
        "            os.makedirs(directory, exist_ok=True)\n",
        "        except OSError as exc:\n",
        "            if exc.errno == errno.EEXIST:\n",
        "                pass\n",
        "        filename = directory + str(i)\n",
        "        #print(filename)\n",
        "        save_image(image, filename)\n",
        "        i = i+1\n",
        "    \n",
        "if __name__ == \"__main__\":\n",
        "    # download data if needed\n",
        "    download_and_extract()\n",
        "\n",
        "    # test to check if the image is read correctly\n",
        "    with open(TRAIN_DATA_PATH) as f:\n",
        "        image = read_single_image(f)\n",
        "        plot_image(image)\n",
        "\n",
        "    # test to check if the whole dataset is read correctly\n",
        "    images = read_all_images(TRAIN_DATA_PATH)\n",
        "    print(images.shape)\n",
        "\n",
        "    labels = read_labels(TRAIN_LABEL_PATH)\n",
        "    print(labels.shape)\n",
        "\n",
        "    save_images(images, labels, 'train')\n",
        "\n",
        "\n",
        "    images = read_all_images(TEST_DATA_PATH)\n",
        "    print(images.shape)\n",
        "\n",
        "    labels = read_labels(TEST_LABEL_PATH)\n",
        "    print(labels.shape)\n",
        "\n",
        "    # save images to disk\n",
        "    save_images(images, labels, 'test')\n"
      ],
      "execution_count": null,
      "outputs": []
    },
    {
      "cell_type": "markdown",
      "metadata": {
        "id": "yPNrwuvSNzOL"
      },
      "source": [
        "ここから"
      ]
    },
    {
      "cell_type": "code",
      "metadata": {
        "id": "xqdgBAbZARMn"
      },
      "source": [
        "shutil.rmtree('/content/sample_data/triming_usb')"
      ],
      "execution_count": null,
      "outputs": []
    },
    {
      "cell_type": "code",
      "metadata": {
        "colab": {
          "base_uri": "https://localhost:8080/",
          "height": 35
        },
        "id": "dWLuYHVpRXmV",
        "outputId": "da362c03-0261-4d5d-9bd0-921ebdf2807d"
      },
      "source": [
        "import shutil\n",
        "import os\n",
        "os.chdir('/content/sample_data')\n",
        "shutil.copytree('/content/drive/MyDrive/Colaboratory/dataset/triming_usb', '/content/sample_data/triming_usb')"
      ],
      "execution_count": null,
      "outputs": [
        {
          "output_type": "execute_result",
          "data": {
            "application/vnd.google.colaboratory.intrinsic+json": {
              "type": "string"
            },
            "text/plain": [
              "'/content/sample_data/triming_usb'"
            ]
          },
          "metadata": {
            "tags": []
          },
          "execution_count": 56
        }
      ]
    },
    {
      "cell_type": "code",
      "metadata": {
        "id": "U6qQgq9K5EfT"
      },
      "source": [
        "import glob\n",
        "import os\n",
        "from PIL import Image\n",
        "\n",
        "files = glob.glob('/content/sample_data/triming_usb/*/*.jpg')\n",
        "\n",
        "for f in files:\n",
        "    img = Image.open(f).convert('RGB')\n",
        "    img_resize = img.resize((int(96), int(96)))\n",
        "    img_resize.save(f)\n",
        "    w, h = img_resize.size\n",
        "    if w != 96:\n",
        "        prnt(os.path(f))\n",
        "    elif h != 96:\n",
        "        rint(os.path(f))"
      ],
      "execution_count": null,
      "outputs": []
    },
    {
      "cell_type": "code",
      "metadata": {
        "id": "R21ygyfoAOit",
        "colab": {
          "base_uri": "https://localhost:8080/",
          "height": 185
        },
        "outputId": "c24ccf94-00c5-42a6-e999-cd2c8ee0a7d8"
      },
      "source": [
        "import os\n",
        "os.chdir('./sample_data')"
      ],
      "execution_count": null,
      "outputs": [
        {
          "output_type": "error",
          "ename": "FileNotFoundError",
          "evalue": "ignored",
          "traceback": [
            "\u001b[0;31m---------------------------------------------------------------------------\u001b[0m",
            "\u001b[0;31mFileNotFoundError\u001b[0m                         Traceback (most recent call last)",
            "\u001b[0;32m<ipython-input-57-dcda3f16f844>\u001b[0m in \u001b[0;36m<module>\u001b[0;34m()\u001b[0m\n\u001b[1;32m      1\u001b[0m \u001b[0;32mimport\u001b[0m \u001b[0mos\u001b[0m\u001b[0;34m\u001b[0m\u001b[0;34m\u001b[0m\u001b[0m\n\u001b[0;32m----> 2\u001b[0;31m \u001b[0mos\u001b[0m\u001b[0;34m.\u001b[0m\u001b[0mchdir\u001b[0m\u001b[0;34m(\u001b[0m\u001b[0;34m'./sample_data'\u001b[0m\u001b[0;34m)\u001b[0m\u001b[0;34m\u001b[0m\u001b[0;34m\u001b[0m\u001b[0m\n\u001b[0m",
            "\u001b[0;31mFileNotFoundError\u001b[0m: [Errno 2] No such file or directory: './sample_data'"
          ]
        }
      ]
    },
    {
      "cell_type": "code",
      "metadata": {
        "colab": {
          "base_uri": "https://localhost:8080/"
        },
        "id": "SwnE7Z6Hh1IU",
        "outputId": "49380a73-f708-436d-9f0c-e3e59248c2b5"
      },
      "source": [
        "!pip install icrawler"
      ],
      "execution_count": null,
      "outputs": [
        {
          "output_type": "stream",
          "text": [
            "Requirement already satisfied: icrawler in /usr/local/lib/python3.6/dist-packages (0.6.3)\n",
            "Requirement already satisfied: beautifulsoup4>=4.4.1 in /usr/local/lib/python3.6/dist-packages (from icrawler) (4.6.3)\n",
            "Requirement already satisfied: Pillow in /usr/local/lib/python3.6/dist-packages (from icrawler) (7.0.0)\n",
            "Requirement already satisfied: requests>=2.9.1 in /usr/local/lib/python3.6/dist-packages (from icrawler) (2.23.0)\n",
            "Requirement already satisfied: six>=1.10.0 in /usr/local/lib/python3.6/dist-packages (from icrawler) (1.15.0)\n",
            "Requirement already satisfied: lxml in /usr/local/lib/python3.6/dist-packages (from icrawler) (4.2.6)\n",
            "Requirement already satisfied: chardet<4,>=3.0.2 in /usr/local/lib/python3.6/dist-packages (from requests>=2.9.1->icrawler) (3.0.4)\n",
            "Requirement already satisfied: idna<3,>=2.5 in /usr/local/lib/python3.6/dist-packages (from requests>=2.9.1->icrawler) (2.10)\n",
            "Requirement already satisfied: urllib3!=1.25.0,!=1.25.1,<1.26,>=1.21.1 in /usr/local/lib/python3.6/dist-packages (from requests>=2.9.1->icrawler) (1.24.3)\n",
            "Requirement already satisfied: certifi>=2017.4.17 in /usr/local/lib/python3.6/dist-packages (from requests>=2.9.1->icrawler) (2020.12.5)\n"
          ],
          "name": "stdout"
        }
      ]
    },
    {
      "cell_type": "code",
      "metadata": {
        "id": "QHgIxdmBvRPE"
      },
      "source": [
        "from IPython.display import display"
      ],
      "execution_count": null,
      "outputs": []
    },
    {
      "cell_type": "code",
      "metadata": {
        "id": "nQE6xVQrruyq"
      },
      "source": [
        "import tensorflow as tf\n",
        "import tensorflow_hub as hub\n",
        "import tensorflow_datasets as tfds\n",
        "\n",
        "import pandas as pd\n",
        "import matplotlib.pyplot as plt\n",
        "\n",
        "import time\n",
        "from PIL import Image\n",
        "import requests\n",
        "from io import BytesIO\n",
        "import matplotlib.pyplot as plt\n",
        "import numpy as np\n",
        "import os\n",
        "import pathlib\n"
      ],
      "execution_count": null,
      "outputs": []
    },
    {
      "cell_type": "code",
      "metadata": {
        "id": "kAktkOXkh7Gt"
      },
      "source": [
        "from icrawler.builtin import BingImageCrawler\n",
        "def dl(a, b=\"\"):\n",
        "    if b == \"\":\n",
        "        b = a\n",
        "    crawler = BingImageCrawler(storage={\"root_dir\": b})\n",
        "    crawler.crawl(keyword=a, max_num=200)"
      ],
      "execution_count": null,
      "outputs": []
    },
    {
      "cell_type": "code",
      "metadata": {
        "id": "63EYBuhqrbB5"
      },
      "source": [
        "model_url = \"https://tfhub.dev/google/bit/m-r50x1/1\"\n",
        "#model_url = \"https://tfhub.dev/google/bit/s-r50x1/1\"\n",
        "module = hub.KerasLayer(model_url)"
      ],
      "execution_count": null,
      "outputs": []
    },
    {
      "cell_type": "code",
      "metadata": {
        "id": "GF0rBeRlufTB"
      },
      "source": [
        "tf_flowers_labels = ['dandelion', 'daisy', 'tulips', 'sunflowers', 'roses']\n",
        "stl10_labels = ['airplane', 'bird', 'car', 'cat', 'deer', 'dog', 'horse', 'monkey', 'ship', 'truck']\n",
        "usb_labels = ['usb-c', 'lightning', 'micro2-b']\n",
        "food_labels = []"
      ],
      "execution_count": null,
      "outputs": []
    },
    {
      "cell_type": "code",
      "metadata": {
        "id": "Te-ymAP4lJAS"
      },
      "source": [
        "import os\n",
        "import glob\n",
        "from PIL import Image\n",
        "\n",
        "files = glob.glob('/content/sample_data/triming_usb/*/*.jpg')\n",
        "\n",
        "for f in files:\n",
        "    try:\n",
        "        img = Image.open(f)\n",
        "        img_resize = img.resize((int(96), int(96)))\n",
        "        title, ext = os.path.splitext(f)\n",
        "        img_resize.save(title + '.jpg')\n",
        "        w, h = img_resize.size\n",
        "        if w != 96:\n",
        "            print(os.path(f))\n",
        "            os.remove(title + '.jpg')\n",
        "        elif h != 96:\n",
        "            print(os.path(f))\n",
        "            os.remove(title + 'jpg')\n",
        "    except:\n",
        "        print(f)\n",
        "        os.remove(f)"
      ],
      "execution_count": null,
      "outputs": []
    },
    {
      "cell_type": "code",
      "metadata": {
        "id": "gl6ofi43-VL0"
      },
      "source": [
        "#vmm_labels = []\n",
        "#vmm_labels = os.listdir(path='/content/drive/My Drive/Colaboratory/VMMRdb'\n"
      ],
      "execution_count": null,
      "outputs": []
    },
    {
      "cell_type": "code",
      "metadata": {
        "id": "QIKwr85ISXpA"
      },
      "source": [
        "#data_dir = tf.keras.utils.get_file(origin='https://storage.googleapis.com/download.tensorflow.org/example_images/flower_photos.tgz',\n",
        "#                                   fname='flower_photos', untar=True)\n",
        "\n",
        "#select small_image or usb or dataset\n",
        "data_dir = pathlib.Path('/content/sample_data/triming_usb/')\n",
        "\n",
        "\n",
        "IMG_HEIGHT = 96\n",
        "IMG_WIDTH = 96\n",
        "\n",
        "CLASS_NAMES = usb_labels  # from plotting helper functions above\n",
        "NUM_CLASSES = len(CLASS_NAMES)\n",
        "num_examples = len(list(data_dir.glob('*/*.jpg')))\n",
        "\n",
        "def get_label(file_path):\n",
        "  # convert the path to a list of path components\n",
        "  parts = tf.strings.split(file_path, os.path.sep)\n",
        "  # The second to last is the class-directory\n",
        "  \n",
        "  return tf.where(parts[-2] == CLASS_NAMES)[0][0]\n",
        "\n",
        "def decode_img(img):\n",
        "  # convert the compressed string to a 3D uint8 tensor\n",
        "  img = tf.image.decode_jpeg(img, channels=3)\n",
        "  return img  \n",
        "\n",
        "def process_path(file_path):\n",
        "  label = get_label(file_path)\n",
        "  # load the raw data from the file as a string\n",
        "  img = tf.io.read_file(file_path)\n",
        "  img = decode_img(img)\n",
        "  features = {'image': img, 'label': label}\n",
        "  return features\n",
        "\n",
        "list_ds_train = tf.data.Dataset.list_files(str(data_dir/'*/*.jpg'))\n",
        "ds = list_ds_train.map(process_path, num_parallel_calls=tf.data.experimental.AUTOTUNE)\n",
        "\n",
        "# list_ds_test = tf.data.Dataset.list_files(str(test_data_dir/'*/*'))\n",
        "# ds_test = list_ds_test.map(process_path, num_parallel_calls=tf.data.experimental.AUTOTUNE)"
      ],
      "execution_count": null,
      "outputs": []
    },
    {
      "cell_type": "code",
      "metadata": {
        "colab": {
          "base_uri": "https://localhost:8080/"
        },
        "id": "k7T10DON_gEH",
        "outputId": "e8d3bcba-0a6c-4d16-e51f-c61fd1f946ec"
      },
      "source": [
        "num_examples"
      ],
      "execution_count": null,
      "outputs": [
        {
          "output_type": "execute_result",
          "data": {
            "text/plain": [
              "300"
            ]
          },
          "metadata": {
            "tags": []
          },
          "execution_count": 65
        }
      ]
    },
    {
      "cell_type": "code",
      "metadata": {
        "id": "SBZ2DfXu8VKK"
      },
      "source": [
        "train_split = 0.8\n",
        "val_split = 0.1\n",
        "num_train = int(train_split * num_examples)\n",
        "num_val = int(val_split * num_examples)\n",
        "ds_train = ds.take(num_train)\n",
        "remain = ds.skip(num_train)\n",
        "ds_val = remain.take(num_val)\n",
        "ds_test = remain.skip(num_val)\n",
        "\n",
        "DATASET_NUM_TRAIN_EXAMPLES = num_examples"
      ],
      "execution_count": null,
      "outputs": []
    },
    {
      "cell_type": "code",
      "metadata": {
        "id": "jCqjmjQOr2cn"
      },
      "source": [
        "class MyBiTModel(tf.keras.Model):\n",
        "\n",
        "  def __init__(self, num_classes, module):\n",
        "    super().__init__()\n",
        "\n",
        "    self.num_classes = num_classes\n",
        "    self.head = tf.keras.layers.Dense(num_classes, kernel_initializer='zeros')\n",
        "    self.bit_model = module\n",
        "\n",
        "  def call(self, images):\n",
        "    bit_embedding = self.bit_model(images)\n",
        "    return self.head(bit_embedding)\n",
        "  \n",
        "model = MyBiTModel(num_classes=NUM_CLASSES, module = module)\n"
      ],
      "execution_count": null,
      "outputs": []
    },
    {
      "cell_type": "code",
      "metadata": {
        "id": "_vOZa1Xd1KOC"
      },
      "source": [
        "IMAGE_SIZE = \">96x96 px\"\n",
        "DATASET_SIZE = \"<20k examples\"\n",
        "\n",
        "if IMAGE_SIZE == \"=<96x96 px\":\n",
        "  RESIZE_TO = 160\n",
        "  CROP_TO = 128\n",
        "else:\n",
        "  RESIZE_TO = 512\n",
        "  CROP_TO = 480\n",
        "\n",
        "if DATASET_SIZE == \"<20k examples\":\n",
        "  SCHEDULE_LENGTH = 500\n",
        "  SCHEDULE_BOUNDARIES = [200, 300, 400]\n",
        "elif DATASET_SIZE == \"20k-500k examples\":\n",
        "  SCHEDULE_LENGTH = 100000\n",
        "  SCHEDULE_BOUNDARIES = [3000, 6000, 9000]\n",
        "else:\n",
        "  SCHEDULE_LENGTH = 20000\n",
        "  SCHEDULE_BOUNDARIES = [6000, 12000, 18000]"
      ],
      "execution_count": null,
      "outputs": []
    },
    {
      "cell_type": "code",
      "metadata": {
        "id": "OzgXkrcD4QOI"
      },
      "source": [
        "BATCH_SIZE = 64\n",
        "SCHEDULE_LENGTH = SCHEDULE_LENGTH * 512 / BATCH_SIZE\n",
        "\n",
        "STEPS_PER_EPOCH = 10\n",
        "\n",
        "def cast_to_tuple(features):\n",
        "  return (features['image'], features['label'])\n",
        "\n",
        "def preprocess_train(features):\n",
        "  features['image'] = tf.image.random_flip_left_right(features['image'])\n",
        "  features['image'] = tf.image.resize(features['image'], [RESIZE_TO, RESIZE_TO])\n",
        "  features['image'] = tf.image.random_crop(features['image'], [CROP_TO, CROP_TO, 3])\n",
        "  features['image'] = tf.cast(features['image'], tf.float32) / 255.0\n",
        "  return features\n",
        "\n",
        "def preprocess_test(features):\n",
        "  features['image'] = tf.image.resize(features['image'], [RESIZE_TO, RESIZE_TO])\n",
        "  features['image'] = tf.cast(features['image'], tf.float32) / 255.0\n",
        "  return features\n",
        "\n",
        "pipeline_train = (ds_train\n",
        "                 .shuffle(10000)\n",
        "                 .repeat(int(SCHEDULE_LENGTH * BATCH_SIZE / DATASET_NUM_TRAIN_EXAMPLES * STEPS_PER_EPOCH) + 1 + 50)\n",
        "                 .map(preprocess_train, num_parallel_calls=8)\n",
        "                 .batch(BATCH_SIZE)\n",
        "                 .map(cast_to_tuple)\n",
        "                 .prefetch(2))\n",
        "\n",
        "pipeline_val = (ds_val\n",
        "                 .map(preprocess_test, num_parallel_calls=1)\n",
        "                 .map(cast_to_tuple)\n",
        "                 .batch(BATCH_SIZE)\n",
        "                 .prefetch(2))\n",
        "pipeline_test = (ds_test\n",
        "                 .map(preprocess_test, num_parallel_calls=1)\n",
        "                 .map(cast_to_tuple)\n",
        "                 .batch(BATCH_SIZE))"
      ],
      "execution_count": null,
      "outputs": []
    },
    {
      "cell_type": "code",
      "metadata": {
        "id": "yV5X1QMm7pgs"
      },
      "source": [
        "lr = 0.003 * BATCH_SIZE / 512\n",
        "\n",
        "lr_schedule = tf.keras.optimizers.schedules.PiecewiseConstantDecay(boundaries=SCHEDULE_BOUNDARIES,\n",
        "                                                                  values=[lr, lr*0.1, lr*0.001, lr*0.0001])\n",
        "optimizer = tf.keras.optimizers.SGD(learning_rate=lr_schedule, momentum=0.9)\n",
        "\n",
        "loss_fn = tf.keras.losses.SparseCategoricalCrossentropy(from_logits=True)"
      ],
      "execution_count": null,
      "outputs": []
    },
    {
      "cell_type": "code",
      "metadata": {
        "colab": {
          "base_uri": "https://localhost:8080/"
        },
        "id": "ugXwUXzA_1jO",
        "outputId": "e9cb2ea2-39d1-4c50-91ce-54b3026a8a66"
      },
      "source": [
        "model.compile(optimizer=optimizer,\n",
        "              loss=loss_fn,\n",
        "              metrics=['accuracy'])\n",
        "\n",
        "NUM_EPOCH = 5\n",
        "\n",
        "history = model.fit(\n",
        "    pipeline_train,\n",
        "    batch_size=BATCH_SIZE,\n",
        "    steps_per_epoch=STEPS_PER_EPOCH,\n",
        "    epochs= NUM_EPOCH, #int(SCHEDULE_LENGTH/STEPS_PER_EPOCH),\n",
        "    validation_data=pipeline_val\n",
        ")"
      ],
      "execution_count": null,
      "outputs": [
        {
          "output_type": "stream",
          "text": [
            "Epoch 1/5\n",
            "10/10 [==============================] - 18s 2s/step - loss: 0.7252 - accuracy: 0.7812 - val_loss: 0.3436 - val_accuracy: 0.9000\n",
            "Epoch 2/5\n",
            "10/10 [==============================] - 17s 2s/step - loss: 0.2547 - accuracy: 0.9172 - val_loss: 0.2015 - val_accuracy: 0.9333\n",
            "Epoch 3/5\n",
            "10/10 [==============================] - 17s 2s/step - loss: 0.1800 - accuracy: 0.9438 - val_loss: 0.2353 - val_accuracy: 0.9333\n",
            "Epoch 4/5\n",
            "10/10 [==============================] - 17s 2s/step - loss: 0.1313 - accuracy: 0.9625 - val_loss: 0.1323 - val_accuracy: 0.9333\n",
            "Epoch 5/5\n",
            "10/10 [==============================] - 17s 2s/step - loss: 0.0981 - accuracy: 0.9703 - val_loss: 0.1317 - val_accuracy: 1.0000\n"
          ],
          "name": "stdout"
        }
      ]
    },
    {
      "cell_type": "code",
      "metadata": {
        "colab": {
          "base_uri": "https://localhost:8080/"
        },
        "id": "qKa9hIgLpfq0",
        "outputId": "86a1a26e-e33c-4756-8edd-908185777ad4"
      },
      "source": [
        "print(\"Evaluate\")\n",
        "result = model.evaluate(pipeline_test)\n",
        "dict(zip(model.metrics_names, result))"
      ],
      "execution_count": null,
      "outputs": [
        {
          "output_type": "stream",
          "text": [
            "Evaluate\n",
            "1/1 [==============================] - 0s 2ms/step - loss: 0.1395 - accuracy: 0.9667\n"
          ],
          "name": "stdout"
        },
        {
          "output_type": "execute_result",
          "data": {
            "text/plain": [
              "{'accuracy': 0.9666666388511658, 'loss': 0.13946588337421417}"
            ]
          },
          "metadata": {
            "tags": []
          },
          "execution_count": 78
        }
      ]
    },
    {
      "cell_type": "code",
      "metadata": {
        "colab": {
          "base_uri": "https://localhost:8080/"
        },
        "id": "BmCCnL1IQtJT",
        "outputId": "0a5a317d-13d0-45c4-cc22-c51b654abf41"
      },
      "source": [
        "export_module_dir = '/tmp/my_saved_bit_model/'\n",
        "tf.saved_model.save(model, export_module_dir)"
      ],
      "execution_count": null,
      "outputs": [
        {
          "output_type": "stream",
          "text": [
            "INFO:tensorflow:Assets written to: /tmp/my_saved_bit_model/assets\n"
          ],
          "name": "stdout"
        },
        {
          "output_type": "stream",
          "text": [
            "INFO:tensorflow:Assets written to: /tmp/my_saved_bit_model/assets\n"
          ],
          "name": "stderr"
        }
      ]
    },
    {
      "cell_type": "code",
      "metadata": {
        "id": "qcWmvZ0Q1QhI"
      },
      "source": [
        "# export_module_dir = \"/content/drive/My Drive/Colaboratory/save_model\"\n",
        "# tf.saved_model.save(model, export_module_dir)"
      ],
      "execution_count": null,
      "outputs": []
    },
    {
      "cell_type": "code",
      "metadata": {
        "id": "Z8ReYUOeQ5OH"
      },
      "source": [
        "saved_module = hub.KerasLayer(export_module_dir, trainable=True)"
      ],
      "execution_count": null,
      "outputs": []
    },
    {
      "cell_type": "code",
      "metadata": {
        "cellView": "form",
        "id": "rQu8yfgbRpam"
      },
      "source": [
        "#@title plot the wrong image \n",
        "# Show the MAX_PREDS highest scoring labels:\n",
        "MAX_PREDS = 5\n",
        "# Do not show labels with lower score than this:\n",
        "MIN_SCORE = 0.8 \n",
        "\n",
        "def show_preds(logits, image, correct_usb_label=None, tf_usb_logits=False):\n",
        "\n",
        "  if len(logits.shape) > 1:\n",
        "    logits = tf.reshape(logits, [-1])\n",
        "\n",
        "  fig, axes = plt.subplots(1, 2, figsize=(7, 1), squeeze=False)\n",
        "\n",
        "  ax1, ax2 = axes[0]\n",
        "\n",
        "  ax1.axis('off')\n",
        "  ax1.imshow(image)\n",
        "  if correct_usb_label is not None:\n",
        "    ax1.set_title(usb_labels[correct_usb_label])\n",
        "  classes = []\n",
        "  scores = []\n",
        "  logits_max = np.max(logits)\n",
        "  softmax_denominator = np.sum(np.exp(logits - logits_max))\n",
        "  for index, j in enumerate(np.argsort(logits)[-MAX_PREDS::][::-1]):\n",
        "    score = 1.0/(1.0 + np.exp(-logits[j]))\n",
        "    if score < MIN_SCORE:\n",
        "        pass \n",
        "        #break\n",
        "    if not tf_usb_logits:\n",
        "      # predicting in imagenet label space\n",
        "      classes.append(imagenet_int_to_str[j])\n",
        "    else:\n",
        "      # predicting in tf_usb label space\n",
        "      classes.append(usb_labels[j])\n",
        "    scores.append(np.exp(logits[j] - logits_max)/softmax_denominator*100)\n",
        "  if classes[0] != usb_labels[correct_usb_label]:\n",
        "    print(score)\n",
        "    ax2.barh(np.arange(len(scores)) + 0.1, scores)\n",
        "    ax2.set_xlim(0, 100)\n",
        "    ax2.set_yticks(np.arange(len(scores)))\n",
        "    ax2.yaxis.set_ticks_position('right')\n",
        "    ax2.set_yticklabels(classes, rotation=0, fontsize=14)\n",
        "    ax2.invert_xaxis()\n",
        "    ax2.invert_yaxis()\n",
        "    ax2.set_xlabel('Prediction probabilities', fontsize=11)"
      ],
      "execution_count": null,
      "outputs": []
    },
    {
      "cell_type": "code",
      "metadata": {
        "id": "a0TsjVbdyWm2",
        "cellView": "form"
      },
      "source": [
        "#@title plot all image\n",
        "# Show the MAX_PREDS highest scoring labels:\n",
        "MAX_PREDS = 5\n",
        "# Do not show labels with lower score than this:\n",
        "MIN_SCORE = 0.8 \n",
        "\n",
        "def show_preds(logits, image, correct_usb_label=None, tf_usb_logits=False):\n",
        "\n",
        "  if len(logits.shape) > 1:\n",
        "    logits = tf.reshape(logits, [-1])\n",
        "\n",
        "  fig, axes = plt.subplots(1, 2, figsize=(7, 1), squeeze=False)\n",
        "\n",
        "  ax1, ax2 = axes[0]\n",
        "\n",
        "  ax1.axis('off')\n",
        "  ax1.imshow(image)\n",
        "  if correct_usb_label is not None:\n",
        "    ax1.set_title(usb_labels[correct_usb_label])\n",
        "  classes = []\n",
        "  scores = []\n",
        "  logits_max = np.max(logits)\n",
        "  softmax_denominator = np.sum(np.exp(logits - logits_max))\n",
        "  for index, j in enumerate(np.argsort(logits)[-MAX_PREDS::][::-1]):\n",
        "    score = 1.0/(1.0 + np.exp(-logits[j]))\n",
        "    if score < MIN_SCORE:\n",
        "        pass \n",
        "        #break\n",
        "    if not tf_usb_logits:\n",
        "      # predicting in imagenet label space\n",
        "      classes.append(imagenet_int_to_str[j])\n",
        "    else:\n",
        "      # predicting in tf_usb label space\n",
        "      classes.append(usb_labels[j])\n",
        "    scores.append(np.exp(logits[j] - logits_max)/softmax_denominator*100)\n",
        "  ax2.barh(np.arange(len(scores)) + 0.1, scores)\n",
        "  ax2.set_xlim(0, 100)\n",
        "  ax2.set_yticks(np.arange(len(scores)))\n",
        "  ax2.yaxis.set_ticks_position('right')\n",
        "\n",
        "  ax2.set_yticklabels(classes, rotation=0, fontsize=14)\n",
        "  ax2.invert_xaxis()\n",
        "  ax2.invert_yaxis()\n",
        "  ax2.set_xlabel('Prediction probabilities', fontsize=11)"
      ],
      "execution_count": null,
      "outputs": []
    },
    {
      "cell_type": "code",
      "metadata": {
        "id": "o-K3yvvFHjGe"
      },
      "source": [
        "def preprocess_image(image):\n",
        "  image = np.array(image)\n",
        "  # reshape into shape [batch_size, height, width, num_channels]\n",
        "  img_reshaped = tf.reshape(image, [1, image.shape[0], image.shape[1], image.shape[2]])\n",
        "  # Use `convert_image_dtype` to convert to floats in the [0,1] range.\n",
        "  image = tf.image.convert_image_dtype(img_reshaped, tf.float32)  \n",
        "  return image\n",
        "\n",
        "def load_image_from_url(url):\n",
        "  \"\"\"Returns an image with shape [1, height, width, num_channels].\"\"\"\n",
        "  response = requests.get(url)\n",
        "  image = Image.open(BytesIO(response.content))\n",
        "  image = preprocess_image(image)\n",
        "  return image"
      ],
      "execution_count": null,
      "outputs": []
    },
    {
      "cell_type": "code",
      "metadata": {
        "id": "qtEBVwuOvivb"
      },
      "source": [
        "try:\n",
        "    shutil.rmtree('/content/sample_data/dataset')\n",
        "except:\n",
        "    pass"
      ],
      "execution_count": null,
      "outputs": []
    },
    {
      "cell_type": "code",
      "metadata": {
        "id": "cE51CY4ldIfp"
      },
      "source": [
        "os.chdir('/content/sample_data')\n",
        "os.mkdir('./dataset')\n",
        "os.chdir('./dataset')\n",
        "os.mkdir('./different_images')\n",
        "os.mkdir('./improper_images')"
      ],
      "execution_count": null,
      "outputs": []
    },
    {
      "cell_type": "code",
      "metadata": {
        "id": "e3-TNl2MaA0O",
        "colab": {
          "base_uri": "https://localhost:8080/"
        },
        "outputId": "05e9a656-9b41-4437-ce29-1829d29d6b4b"
      },
      "source": [
        "dl(\"USB 2.0 Micro-B\", 'micro2-b')\n",
        "dl('lightning male connector', 'lightning')\n",
        "dl('USB Type-C', 'usb-c')"
      ],
      "execution_count": null,
      "outputs": [
        {
          "output_type": "stream",
          "text": [
            "ERROR:downloader:Response status code 403, file https://www.scan.co.uk/images/products/2187235-a.jpg\n",
            "ERROR:downloader:Exception caught when downloading file https://cpc.farnell.com/productimages/standard/en_GB/CS17937-40.jpg, error: HTTPSConnectionPool(host='cpc.farnell.com', port=443): Read timed out. (read timeout=5), remaining retry times: 2\n",
            "ERROR:downloader:Exception caught when downloading file https://cpc.farnell.com/productimages/standard/en_GB/CS17937-40.jpg, error: HTTPSConnectionPool(host='cpc.farnell.com', port=443): Read timed out. (read timeout=5), remaining retry times: 1\n",
            "ERROR:downloader:Exception caught when downloading file https://cpc.farnell.com/productimages/standard/en_GB/CS17937-40.jpg, error: HTTPSConnectionPool(host='cpc.farnell.com', port=443): Read timed out. (read timeout=5), remaining retry times: 0\n",
            "ERROR:downloader:Response status code 403, file https://www.rm-computertechnik.de/Shop/picturesbig/Inline-USB-20-Micro-B-Kabel-vergoldet-Schwarz.jpg\n",
            "ERROR:downloader:Exception caught when downloading file https://printplaat.nl/image/cache/catalog/lightning-connector-male-800x800.jpg, error: HTTPSConnectionPool(host='printplaat.nl', port=443): Max retries exceeded with url: /image/cache/catalog/lightning-connector-male-800x800.jpg (Caused by NewConnectionError('<urllib3.connection.VerifiedHTTPSConnection object at 0x7fec111cb550>: Failed to establish a new connection: [Errno -2] Name or service not known',)), remaining retry times: 2\n",
            "ERROR:downloader:Exception caught when downloading file https://printplaat.nl/image/cache/catalog/lightning-connector-male-800x800.jpg, error: HTTPSConnectionPool(host='printplaat.nl', port=443): Max retries exceeded with url: /image/cache/catalog/lightning-connector-male-800x800.jpg (Caused by NewConnectionError('<urllib3.connection.VerifiedHTTPSConnection object at 0x7fec111c49e8>: Failed to establish a new connection: [Errno -2] Name or service not known',)), remaining retry times: 1\n",
            "ERROR:downloader:Exception caught when downloading file https://printplaat.nl/image/cache/catalog/lightning-connector-male-800x800.jpg, error: HTTPSConnectionPool(host='printplaat.nl', port=443): Max retries exceeded with url: /image/cache/catalog/lightning-connector-male-800x800.jpg (Caused by NewConnectionError('<urllib3.connection.VerifiedHTTPSConnection object at 0x7fec111c4d30>: Failed to establish a new connection: [Errno -2] Name or service not known',)), remaining retry times: 0\n",
            "ERROR:downloader:Exception caught when downloading file https://www.usb-cconnector.com/photo/pl24208727-4_pin_lightning_iphone_male_connector_with_5ic_solder_for_apple_cable.jpg, error: HTTPSConnectionPool(host='www.usb-cconnector.com', port=443): Max retries exceeded with url: /photo/pl24208727-4_pin_lightning_iphone_male_connector_with_5ic_solder_for_apple_cable.jpg (Caused by SSLError(SSLError(1, '[SSL: CERTIFICATE_VERIFY_FAILED] certificate verify failed (_ssl.c:852)'),)), remaining retry times: 2\n",
            "ERROR:downloader:Exception caught when downloading file https://www.usb-cconnector.com/photo/pl24208727-4_pin_lightning_iphone_male_connector_with_5ic_solder_for_apple_cable.jpg, error: HTTPSConnectionPool(host='www.usb-cconnector.com', port=443): Max retries exceeded with url: /photo/pl24208727-4_pin_lightning_iphone_male_connector_with_5ic_solder_for_apple_cable.jpg (Caused by SSLError(SSLError(1, '[SSL: CERTIFICATE_VERIFY_FAILED] certificate verify failed (_ssl.c:852)'),)), remaining retry times: 1\n",
            "ERROR:downloader:Exception caught when downloading file https://www.usb-cconnector.com/photo/pl24208727-4_pin_lightning_iphone_male_connector_with_5ic_solder_for_apple_cable.jpg, error: HTTPSConnectionPool(host='www.usb-cconnector.com', port=443): Max retries exceeded with url: /photo/pl24208727-4_pin_lightning_iphone_male_connector_with_5ic_solder_for_apple_cable.jpg (Caused by SSLError(SSLError(1, '[SSL: CERTIFICATE_VERIFY_FAILED] certificate verify failed (_ssl.c:852)'),)), remaining retry times: 0\n",
            "ERROR:downloader:Exception caught when downloading file https://printplaat.nl/image/cache/catalog/lightning-connector-800x800.jpg, error: HTTPSConnectionPool(host='printplaat.nl', port=443): Max retries exceeded with url: /image/cache/catalog/lightning-connector-800x800.jpg (Caused by NewConnectionError('<urllib3.connection.VerifiedHTTPSConnection object at 0x7fec1128cf98>: Failed to establish a new connection: [Errno -2] Name or service not known',)), remaining retry times: 2\n",
            "ERROR:downloader:Exception caught when downloading file https://printplaat.nl/image/cache/catalog/lightning-connector-800x800.jpg, error: HTTPSConnectionPool(host='printplaat.nl', port=443): Max retries exceeded with url: /image/cache/catalog/lightning-connector-800x800.jpg (Caused by NewConnectionError('<urllib3.connection.VerifiedHTTPSConnection object at 0x7fec112084e0>: Failed to establish a new connection: [Errno -2] Name or service not known',)), remaining retry times: 1\n",
            "ERROR:downloader:Exception caught when downloading file https://printplaat.nl/image/cache/catalog/lightning-connector-800x800.jpg, error: HTTPSConnectionPool(host='printplaat.nl', port=443): Max retries exceeded with url: /image/cache/catalog/lightning-connector-800x800.jpg (Caused by NewConnectionError('<urllib3.connection.VerifiedHTTPSConnection object at 0x7fec1128cf98>: Failed to establish a new connection: [Errno -2] Name or service not known',)), remaining retry times: 0\n",
            "ERROR:downloader:Response status code 404, file http://www.comprehensiveco.com/resize/shared/images/products/comprehensive/LTNGUSBAxxST.jpg\n",
            "ERROR:downloader:Exception caught when downloading file https://chickadeesolutions-woo-6drz229racfsh09p7h.netdna-ssl.com/wp-content/uploads/2019/06/51MD4qg3PVL.jpg, error: HTTPSConnectionPool(host='chickadeesolutions-woo-6drz229racfsh09p7h.netdna-ssl.com', port=443): Max retries exceeded with url: /wp-content/uploads/2019/06/51MD4qg3PVL.jpg (Caused by NewConnectionError('<urllib3.connection.VerifiedHTTPSConnection object at 0x7fec113ce1d0>: Failed to establish a new connection: [Errno -2] Name or service not known',)), remaining retry times: 2\n",
            "ERROR:downloader:Exception caught when downloading file https://chickadeesolutions-woo-6drz229racfsh09p7h.netdna-ssl.com/wp-content/uploads/2019/06/51MD4qg3PVL.jpg, error: HTTPSConnectionPool(host='chickadeesolutions-woo-6drz229racfsh09p7h.netdna-ssl.com', port=443): Max retries exceeded with url: /wp-content/uploads/2019/06/51MD4qg3PVL.jpg (Caused by NewConnectionError('<urllib3.connection.VerifiedHTTPSConnection object at 0x7fec111d2d68>: Failed to establish a new connection: [Errno -2] Name or service not known',)), remaining retry times: 1\n",
            "ERROR:downloader:Exception caught when downloading file https://chickadeesolutions-woo-6drz229racfsh09p7h.netdna-ssl.com/wp-content/uploads/2019/06/51MD4qg3PVL.jpg, error: HTTPSConnectionPool(host='chickadeesolutions-woo-6drz229racfsh09p7h.netdna-ssl.com', port=443): Max retries exceeded with url: /wp-content/uploads/2019/06/51MD4qg3PVL.jpg (Caused by NewConnectionError('<urllib3.connection.VerifiedHTTPSConnection object at 0x7fec113d47b8>: Failed to establish a new connection: [Errno -2] Name or service not known',)), remaining retry times: 0\n",
            "ERROR:downloader:Exception caught when downloading file https://www.usb-cconnector.com/photo/pl24208728-4_pin_lightning_iphone_male_connector_with_5ic_solder_for_apple_cable.jpg, error: HTTPSConnectionPool(host='www.usb-cconnector.com', port=443): Max retries exceeded with url: /photo/pl24208728-4_pin_lightning_iphone_male_connector_with_5ic_solder_for_apple_cable.jpg (Caused by SSLError(SSLError(1, '[SSL: CERTIFICATE_VERIFY_FAILED] certificate verify failed (_ssl.c:852)'),)), remaining retry times: 2\n",
            "ERROR:downloader:Exception caught when downloading file https://www.usb-cconnector.com/photo/pl24208728-4_pin_lightning_iphone_male_connector_with_5ic_solder_for_apple_cable.jpg, error: HTTPSConnectionPool(host='www.usb-cconnector.com', port=443): Max retries exceeded with url: /photo/pl24208728-4_pin_lightning_iphone_male_connector_with_5ic_solder_for_apple_cable.jpg (Caused by SSLError(SSLError(1, '[SSL: CERTIFICATE_VERIFY_FAILED] certificate verify failed (_ssl.c:852)'),)), remaining retry times: 1\n",
            "ERROR:downloader:Exception caught when downloading file https://www.usb-cconnector.com/photo/pl24208728-4_pin_lightning_iphone_male_connector_with_5ic_solder_for_apple_cable.jpg, error: HTTPSConnectionPool(host='www.usb-cconnector.com', port=443): Max retries exceeded with url: /photo/pl24208728-4_pin_lightning_iphone_male_connector_with_5ic_solder_for_apple_cable.jpg (Caused by SSLError(SSLError(1, '[SSL: CERTIFICATE_VERIFY_FAILED] certificate verify failed (_ssl.c:852)'),)), remaining retry times: 0\n",
            "ERROR:downloader:Exception caught when downloading file https://printplaat.nl/image/cache/catalog/lightning-connector-microscoop-800x800.jpg, error: HTTPSConnectionPool(host='printplaat.nl', port=443): Max retries exceeded with url: /image/cache/catalog/lightning-connector-microscoop-800x800.jpg (Caused by NewConnectionError('<urllib3.connection.VerifiedHTTPSConnection object at 0x7fec111c4d68>: Failed to establish a new connection: [Errno -2] Name or service not known',)), remaining retry times: 2\n",
            "ERROR:downloader:Exception caught when downloading file https://printplaat.nl/image/cache/catalog/lightning-connector-microscoop-800x800.jpg, error: HTTPSConnectionPool(host='printplaat.nl', port=443): Max retries exceeded with url: /image/cache/catalog/lightning-connector-microscoop-800x800.jpg (Caused by NewConnectionError('<urllib3.connection.VerifiedHTTPSConnection object at 0x7fec11224c50>: Failed to establish a new connection: [Errno -2] Name or service not known',)), remaining retry times: 1\n",
            "ERROR:downloader:Exception caught when downloading file https://printplaat.nl/image/cache/catalog/lightning-connector-microscoop-800x800.jpg, error: HTTPSConnectionPool(host='printplaat.nl', port=443): Max retries exceeded with url: /image/cache/catalog/lightning-connector-microscoop-800x800.jpg (Caused by NewConnectionError('<urllib3.connection.VerifiedHTTPSConnection object at 0x7fec11190b00>: Failed to establish a new connection: [Errno -2] Name or service not known',)), remaining retry times: 0\n",
            "ERROR:downloader:Exception caught when downloading file https://www.usb-cconnector.com/photo/pl24208725-4_pin_lightning_iphone_male_connector_with_5ic_solder_for_apple_cable.jpg, error: HTTPSConnectionPool(host='www.usb-cconnector.com', port=443): Max retries exceeded with url: /photo/pl24208725-4_pin_lightning_iphone_male_connector_with_5ic_solder_for_apple_cable.jpg (Caused by SSLError(SSLError(1, '[SSL: CERTIFICATE_VERIFY_FAILED] certificate verify failed (_ssl.c:852)'),)), remaining retry times: 2\n",
            "ERROR:downloader:Exception caught when downloading file https://www.usb-cconnector.com/photo/pl24208725-4_pin_lightning_iphone_male_connector_with_5ic_solder_for_apple_cable.jpg, error: HTTPSConnectionPool(host='www.usb-cconnector.com', port=443): Max retries exceeded with url: /photo/pl24208725-4_pin_lightning_iphone_male_connector_with_5ic_solder_for_apple_cable.jpg (Caused by SSLError(SSLError(1, '[SSL: CERTIFICATE_VERIFY_FAILED] certificate verify failed (_ssl.c:852)'),)), remaining retry times: 1\n",
            "ERROR:downloader:Exception caught when downloading file https://www.usb-cconnector.com/photo/pl24208725-4_pin_lightning_iphone_male_connector_with_5ic_solder_for_apple_cable.jpg, error: HTTPSConnectionPool(host='www.usb-cconnector.com', port=443): Max retries exceeded with url: /photo/pl24208725-4_pin_lightning_iphone_male_connector_with_5ic_solder_for_apple_cable.jpg (Caused by SSLError(SSLError(1, '[SSL: CERTIFICATE_VERIFY_FAILED] certificate verify failed (_ssl.c:852)'),)), remaining retry times: 0\n",
            "ERROR:downloader:Exception caught when downloading file https://www.usb-cconnector.com/photo/pl24208726-4_pin_lightning_iphone_male_connector_with_5ic_solder_for_apple_cable.jpg, error: HTTPSConnectionPool(host='www.usb-cconnector.com', port=443): Max retries exceeded with url: /photo/pl24208726-4_pin_lightning_iphone_male_connector_with_5ic_solder_for_apple_cable.jpg (Caused by SSLError(SSLError(1, '[SSL: CERTIFICATE_VERIFY_FAILED] certificate verify failed (_ssl.c:852)'),)), remaining retry times: 2\n",
            "ERROR:downloader:Exception caught when downloading file https://www.usb-cconnector.com/photo/pl24208726-4_pin_lightning_iphone_male_connector_with_5ic_solder_for_apple_cable.jpg, error: HTTPSConnectionPool(host='www.usb-cconnector.com', port=443): Max retries exceeded with url: /photo/pl24208726-4_pin_lightning_iphone_male_connector_with_5ic_solder_for_apple_cable.jpg (Caused by SSLError(SSLError(1, '[SSL: CERTIFICATE_VERIFY_FAILED] certificate verify failed (_ssl.c:852)'),)), remaining retry times: 1\n",
            "ERROR:downloader:Exception caught when downloading file https://www.usb-cconnector.com/photo/pl24208726-4_pin_lightning_iphone_male_connector_with_5ic_solder_for_apple_cable.jpg, error: HTTPSConnectionPool(host='www.usb-cconnector.com', port=443): Max retries exceeded with url: /photo/pl24208726-4_pin_lightning_iphone_male_connector_with_5ic_solder_for_apple_cable.jpg (Caused by SSLError(SSLError(1, '[SSL: CERTIFICATE_VERIFY_FAILED] certificate verify failed (_ssl.c:852)'),)), remaining retry times: 0\n",
            "ERROR:downloader:Exception caught when downloading file https://www.element14.com/community/servlet/JiveServlet/showImage/102-86888-1-420900/gct-usb-type-c.jpg, error: HTTPSConnectionPool(host='www.element14.com', port=443): Read timed out. (read timeout=5), remaining retry times: 2\n",
            "ERROR:downloader:Exception caught when downloading file https://www.element14.com/community/servlet/JiveServlet/showImage/102-86888-1-420900/gct-usb-type-c.jpg, error: HTTPSConnectionPool(host='www.element14.com', port=443): Read timed out. (read timeout=5), remaining retry times: 1\n",
            "ERROR:downloader:Exception caught when downloading file https://www.element14.com/community/servlet/JiveServlet/showImage/102-86888-1-420900/gct-usb-type-c.jpg, error: HTTPSConnectionPool(host='www.element14.com', port=443): Read timed out. (read timeout=5), remaining retry times: 0\n",
            "ERROR:downloader:Response status code 404, file https://upload.wikimedia.org/wikipedia/commons/thumb/e/eb/USB-C_type_c.jpg\n"
          ],
          "name": "stderr"
        }
      ]
    },
    {
      "cell_type": "code",
      "metadata": {
        "id": "LdmWy0YWbmc8"
      },
      "source": [
        "with open('/content/sample_data/dataset/setting.txt', mode='w') as f:\n",
        "    f.write('NUM_EPOCH : ')\n",
        "    f.write(str(NUM_EPOCH))\n",
        "    f.write('\\nresult\\n')\n",
        "    f.write(str(result))"
      ],
      "execution_count": null,
      "outputs": []
    },
    {
      "cell_type": "code",
      "metadata": {
        "id": "dVeDmjvQ7dTR"
      },
      "source": [
        "import shutil\n",
        "image_paths = glob.glob('/content/sample_data/dataset/*/*.jpg')\n",
        "\n",
        "lightning_lank = []\n",
        "micro2_b_lank = []\n",
        "usb_c_lank = []\n",
        "i = 0\n",
        "\n",
        "for image_path in image_paths:\n",
        "    dir_name = os.path.dirname(image_path)\n",
        "    _, dir_name = os.path.split(dir_name)\n",
        "    dir_path = os.path.dirname(image_path)\n",
        "\n",
        "    if dir_name == 'different_images' or dir_name == 'improper_images':\n",
        "        break\n",
        "    image = Image.open(image_path).convert('RGB')\n",
        "    im = image\n",
        "    image = preprocess_image(image)\n",
        "    image = tf.image.resize(image, [CROP_TO, CROP_TO])\n",
        "\n",
        "    logits = saved_module(image)\n",
        "    tf_usb_logits=True\n",
        "    image = image[0]\n",
        "\n",
        "\n",
        "    if len(logits.shape) > 1:\n",
        "        logits = tf.reshape(logits, [-1])\n",
        "\n",
        "    correct_label = usb_labels.index(dir_name)\n",
        "\n",
        "    MAX_PREDS = 5\n",
        "    MIN_SCORE = 0.8\n",
        "    MAX_SCORE = 0.0\n",
        "    MAX_LABEL = None\n",
        "    classes = []\n",
        "    scores = []\n",
        "    CORRECT_SCORE = 0.0\n",
        "\n",
        "\n",
        "    # Do not show labels with lower score than this:\n",
        "    for index, j in enumerate(np.argsort(logits)[-MAX_PREDS::][::-1]):\n",
        "        score = 1.0/(1.0 + np.exp(-logits[j]))\n",
        "        if j == correct_label:\n",
        "            CORRECT_SCORE = score\n",
        "            t = (image_path, CORRECT_SCORE)\n",
        "            if dir_name == 'lightning':\n",
        "                lightning_lank.append(t)\n",
        "            elif dir_name == 'micro2-b':\n",
        "                micro2_b_lank.append(t)\n",
        "            elif dir_name == 'usb-c':\n",
        "                usb_c_lank.append(t)\n",
        "        if score > MAX_SCORE:\n",
        "            MAX_SCORE = score\n",
        "            MAX_LABEL = j\n",
        "\n",
        "\n",
        "    MAX_SCORE = 0\n",
        "\n",
        "lightning_lank.sort(reverse=True, key=lambda x : x[1])\n",
        "micro2_b_lank.sort(reverse=True, key=lambda x : x[1])\n",
        "usb_c_lank.sort(reverse=True, key=lambda x : x[1])\n",
        "\n",
        "a = ['lightning_lank', 'micro2_b_lank', 'usb_c_lank']\n",
        "for i in range(3):\n",
        "    j = 0\n",
        "    for l in eval(a[i]):\n",
        "        path, score = l\n",
        "        dir_name = os.path.dirname(path)\n",
        "        n = score * 1000000\n",
        "        n = round(n)\n",
        "        new_path = os.path.join(dir_name, str(n) + '.jpg')\n",
        "        os.rename(path, new_path)\n",
        "        j += 1"
      ],
      "execution_count": null,
      "outputs": []
    },
    {
      "cell_type": "markdown",
      "metadata": {
        "id": "xiaQGSChxHMy"
      },
      "source": [
        "#Move the score less than 0.8"
      ]
    },
    {
      "cell_type": "code",
      "metadata": {
        "id": "gsqJbM4l4KoP"
      },
      "source": [
        "def remove_transparency(im, bg_colour=(255, 255, 255)):\n",
        "\n",
        "    # Only process if image has transparency (http://stackoverflow.com/a/1963146)\n",
        "    if im.mode in ('RGBA', 'LA') or (im.mode == 'P' and 'transparency' in im.info):\n",
        "\n",
        "        # Need to convert to RGBA if LA format due to a bug in PIL (http://stackoverflow.com/a/1963146)\n",
        "        alpha = im.convert('RGBA').split()[-1]\n",
        "\n",
        "        # Create a new background image of our matt color.\n",
        "        # Must be RGBA because paste requires both images have the same format\n",
        "        # (http://stackoverflow.com/a/8720632  and  http://stackoverflow.com/a/9459208)\n",
        "        bg = Image.new(\"RGBA\", im.size, bg_colour + (255,))\n",
        "        bg.paste(im, mask=alpha)\n",
        "        return bg\n",
        "\n",
        "    else:\n",
        "        return im"
      ],
      "execution_count": null,
      "outputs": []
    },
    {
      "cell_type": "markdown",
      "metadata": {
        "id": "xidV6fmjwrEs"
      },
      "source": [
        "#One code below is enough to put it all together"
      ]
    },
    {
      "cell_type": "code",
      "metadata": {
        "id": "AE2niLiZsVrL"
      },
      "source": [
        "import shutil\n",
        "image_paths = glob.glob('/content/sample_data/dataset/*/*.jpg')\n",
        "\n",
        "i = 0\n",
        "for image_path in image_paths:\n",
        "    dir_name = os.path.dirname(image_path)\n",
        "    _, dir_name = os.path.split(dir_name)\n",
        "    dir_path = os.path.dirname(image_path)\n",
        "\n",
        "    if dir_name == 'different_images' or dir_name == 'improper_images':\n",
        "        break\n",
        "    image = Image.open(image_path).convert('RGB')\n",
        "    print(image.mode)\n",
        "    image = remove_transparency(image)\n",
        "    im = image\n",
        "    image = preprocess_image(image)\n",
        "    image = tf.image.resize(image, [CROP_TO, CROP_TO])\n",
        "\n",
        "    a, b, c, d = image.shape\n",
        "    logits = saved_module(image)\n",
        "    tf_usb_logits=True\n",
        "    image = image[0]\n",
        "\n",
        "\n",
        "    if len(logits.shape) > 1:\n",
        "        logits = tf.reshape(logits, [-1])\n",
        "\n",
        "    correct_label = usb_labels.index(dir_name)\n",
        "\n",
        "    MAX_PREDS = 5\n",
        "    MIN_SCORE = 0.8\n",
        "    MAX_SCORE = 0.0\n",
        "    MAX_LABEL = None\n",
        "    classes = []\n",
        "    scores = []\n",
        "    CORRECT_SCORE = 0.0\n",
        "    # Do not show labels with lower score than this:\n",
        "    print(image_path)\n",
        "    for index, j in enumerate(np.argsort(logits)[-MAX_PREDS::][::-1]):\n",
        "        score = 1.0/(1.0 + np.exp(-logits[j]))\n",
        "        print(j, end='   :   ')\n",
        "        print(score)\n",
        "        if j == correct_label:\n",
        "            CORRECT_SCORE = score\n",
        "        if score > MAX_SCORE:\n",
        "            MAX_SCORE = score\n",
        "            MAX_LABEL = j\n",
        "\n",
        "    if MAX_SCORE < MIN_SCORE or CORRECT_SCORE < MIN_SCORE:\n",
        "        display(im)\n",
        "        new_path = os.path.join(dir_path, dir_name + os.path.basename(image_path))\n",
        "        os.rename(image_path, new_path)\n",
        "        shutil.move(new_path, '/content/sample_data/dataset/improper_images')\n",
        "        print(image_path)\n",
        "        print(MAX_SCORE)\n",
        "        print('---------------')\n",
        "\n",
        "    if correct_label != MAX_LABEL:\n",
        "        display(im)\n",
        "        name = os.path.dirname(image_path)\n",
        "        _, name = os.path.split(name)\n",
        "        name += '_to_'\n",
        "        name += usb_labels[MAX_LABEL]\n",
        "        sample_path = os.path.join(dir_path, name)\n",
        "        print(name)\n",
        "        print(dir_path)\n",
        "        print(sample_path)\n",
        "        try:\n",
        "            os.rename(image_path, sample_path)\n",
        "            shutil.copyfile(sample_path, os.path.join('/content/sample_data/dataset/different_images', name))\n",
        "            new_path = os.path.join(dir_path, dir_name + os.path.basename(image_path))\n",
        "            os.rename(sample_path, new_path)\n",
        "            print(new_path)\n",
        "            correct_name = usb_labels[MAX_LABEL]\n",
        "            dd_path, _ = os.path.split(dir_path)\n",
        "            next_path = os.path.join(dd_path, correct_name)\n",
        "            new_next_path = os.path.join(next_path, os.path.basename(new_path))\n",
        "            print(new_next_path)\n",
        "            shutil.copyfile(new_path, new_next_path)\n",
        "\n",
        "        except FileNotFoundError as e:\n",
        "            pass\n",
        "\n",
        "\n",
        "    MAX_SCORE = 0\n",
        "    if i % 2 == 0:\n",
        "        print(usb_labels)\n",
        "    print(\"------------\")\n",
        "    i += 1\n",
        "\n"
      ],
      "execution_count": null,
      "outputs": []
    },
    {
      "cell_type": "markdown",
      "metadata": {
        "id": "fRkLKSMjAcwt"
      },
      "source": [
        "#Move it to the correct label"
      ]
    },
    {
      "cell_type": "markdown",
      "metadata": {
        "id": "EZEXYOejC2bT"
      },
      "source": [
        "次やること\n",
        "* 自動ラベル付\n",
        "* ファイルを正しい方にもコピーする\n",
        "* その時に正しいかは表示して確かめる\n",
        "* 少ないデータセットでaccが1.0になっていたからepockを減らして実行する\n",
        "* 普通のデータセットで実行したものをダウンロードしているから、それをみて確認する\n",
        "* usbにする必要はないからfood101で実行してみる\n",
        "* sampleの数はtrainの割合で調整する\n",
        "* testを多くするなど\n",
        "\n"
      ]
    },
    {
      "cell_type": "code",
      "metadata": {
        "colab": {
          "base_uri": "https://localhost:8080/"
        },
        "id": "K6Ls_EyoZgEn",
        "outputId": "6056cba9-ea19-475f-a6ab-1300563e7522"
      },
      "source": [
        "!pwd"
      ],
      "execution_count": null,
      "outputs": [
        {
          "output_type": "stream",
          "text": [
            "\n",
            "/content/sample_data/dataset\n"
          ],
          "name": "stdout"
        }
      ]
    },
    {
      "cell_type": "code",
      "metadata": {
        "id": "vWleGvt0dda_"
      },
      "source": [
        "os.chdir('/content/sample_data/dataset')"
      ],
      "execution_count": null,
      "outputs": []
    },
    {
      "cell_type": "code",
      "metadata": {
        "id": "t-GL-I_4kxv-"
      },
      "source": [
        "!zip dataset.zip ./*/*"
      ],
      "execution_count": null,
      "outputs": []
    },
    {
      "cell_type": "code",
      "metadata": {
        "colab": {
          "base_uri": "https://localhost:8080/"
        },
        "id": "6iqTIb9af136",
        "outputId": "0e651b87-50e5-423e-967a-2ea214412724"
      },
      "source": [
        "usb_labels"
      ],
      "execution_count": null,
      "outputs": [
        {
          "output_type": "execute_result",
          "data": {
            "text/plain": [
              "['usb3-a', 'usb-c', 'lightning', 'micro2-b']"
            ]
          },
          "metadata": {
            "tags": []
          },
          "execution_count": 98
        }
      ]
    },
    {
      "cell_type": "code",
      "metadata": {
        "colab": {
          "base_uri": "https://localhost:8080/",
          "height": 1000
        },
        "id": "Wlj_4SwnRAvd",
        "outputId": "c78bd909-64f6-4918-c6cd-2dfc6c9ea1b8"
      },
      "source": [
        "for features in ds_train.take(20):\n",
        "  image = features['image']\n",
        "  image = preprocess_image(image)\n",
        "  image = tf.image.resize(image, [CROP_TO, CROP_TO])\n",
        "\n",
        "  logits = saved_module(image)\n",
        "\n",
        "  show_preds(logits, image[0], correct_usb_label=features['label'].numpy(), tf_usb_logits=True)"
      ],
      "execution_count": null,
      "outputs": [
        {
          "output_type": "display_data",
          "data": {
            "image/png": "[encoded data removed]",
            "text/plain": [
              "<Figure size 504x72 with 2 Axes>"
            ]
          },
          "metadata": {
            "tags": [],
            "needs_background": "light"
          }
        },
        {
          "output_type": "display_data",
          "data": {
            "image/png": "[encoded data removed]",
            "text/plain": [
              "<Figure size 504x72 with 2 Axes>"
            ]
          },
          "metadata": {
            "tags": [],
            "needs_background": "light"
          }
        },
        {
          "output_type": "display_data",
          "data": {
            "image/png": "[encoded data removed]",
            "text/plain": [
              "<Figure size 504x72 with 2 Axes>"
            ]
          },
          "metadata": {
            "tags": [],
            "needs_background": "light"
          }
        },
        {
          "output_type": "display_data",
          "data": {
            "image/png": "[encoded data removed]",
            "text/plain": [
              "<Figure size 504x72 with 2 Axes>"
            ]
          },
          "metadata": {
            "tags": [],
            "needs_background": "light"
          }
        },
        {
          "output_type": "display_data",
          "data": {
            "image/png": "[encoded data removed]",
            "text/plain": [
              "<Figure size 504x72 with 2 Axes>"
            ]
          },
          "metadata": {
            "tags": [],
            "needs_background": "light"
          }
        },
        {
          "output_type": "display_data",
          "data": {
            "image/png": "[encoded data removed]",
            "text/plain": [
              "<Figure size 504x72 with 2 Axes>"
            ]
          },
          "metadata": {
            "tags": [],
            "needs_background": "light"
          }
        },
        {
          "output_type": "display_data",
          "data": {
            "image/png": "[encoded data removed]",
            "text/plain": [
              "<Figure size 504x72 with 2 Axes>"
            ]
          },
          "metadata": {
            "tags": [],
            "needs_background": "light"
          }
        },
        {
          "output_type": "display_data",
          "data": {
            "image/png": "[encoded data removed]",
            "text/plain": [
              "<Figure size 504x72 with 2 Axes>"
            ]
          },
          "metadata": {
            "tags": [],
            "needs_background": "light"
          }
        },
        {
          "output_type": "display_data",
          "data": {
            "image/png": "[encoded data removed]",
            "text/plain": [
              "<Figure size 504x72 with 2 Axes>"
            ]
          },
          "metadata": {
            "tags": [],
            "needs_background": "light"
          }
        },
        {
          "output_type": "display_data",
          "data": {
            "image/png": "[encoded data removed]",
            "text/plain": [
              "<Figure size 504x72 with 2 Axes>"
            ]
          },
          "metadata": {
            "tags": [],
            "needs_background": "light"
          }
        },
        {
          "output_type": "display_data",
          "data": {
            "image/png": "[encoded data removed]",
            "text/plain": [
              "<Figure size 504x72 with 2 Axes>"
            ]
          },
          "metadata": {
            "tags": [],
            "needs_background": "light"
          }
        },
        {
          "output_type": "display_data",
          "data": {
            "image/png": "[encoded data removed]",
            "text/plain": [
              "<Figure size 504x72 with 2 Axes>"
            ]
          },
          "metadata": {
            "tags": [],
            "needs_background": "light"
          }
        },
        {
          "output_type": "display_data",
          "data": {
            "image/png": "[encoded data removed]",
            "text/plain": [
              "<Figure size 504x72 with 2 Axes>"
            ]
          },
          "metadata": {
            "tags": [],
            "needs_background": "light"
          }
        },
        {
          "output_type": "display_data",
          "data": {
            "image/png": "[encoded data removed]",
            "text/plain": [
              "<Figure size 504x72 with 2 Axes>"
            ]
          },
          "metadata": {
            "tags": [],
            "needs_background": "light"
          }
        },
        {
          "output_type": "display_data",
          "data": {
            "image/png": "[encoded data removed]",
            "text/plain": [
              "<Figure size 504x72 with 2 Axes>"
            ]
          },
          "metadata": {
            "tags": [],
            "needs_background": "light"
          }
        },
        {
          "output_type": "display_data",
          "data": {
            "image/png": "[encoded data removed]",
            "text/plain": [
              "<Figure size 504x72 with 2 Axes>"
            ]
          },
          "metadata": {
            "tags": [],
            "needs_background": "light"
          }
        },
        {
          "output_type": "display_data",
          "data": {
            "image/png": "[encoded data removed]",
            "text/plain": [
              "<Figure size 504x72 with 2 Axes>"
            ]
          },
          "metadata": {
            "tags": [],
            "needs_background": "light"
          }
        },
        {
          "output_type": "display_data",
          "data": {
            "image/png": "[encoded data removed]",
            "text/plain": [
              "<Figure size 504x72 with 2 Axes>"
            ]
          },
          "metadata": {
            "tags": [],
            "needs_background": "light"
          }
        },
        {
          "output_type": "display_data",
          "data": {
            "image/png": "[encoded data removed]",
            "text/plain": [
              "<Figure size 504x72 with 2 Axes>"
            ]
          },
          "metadata": {
            "tags": [],
            "needs_background": "light"
          }
        },
        {
          "output_type": "display_data",
          "data": {
            "image/png": "[encoded data removed]",
            "text/plain": [
              "<Figure size 504x72 with 2 Axes>"
            ]
          },
          "metadata": {
            "tags": [],
            "needs_background": "light"
          }
        }
      ]
    },
    {
      "cell_type": "code",
      "metadata": {
        "id": "OyrHeScKRaXQ"
      },
      "source": [
        "!free -h"
      ],
      "execution_count": null,
      "outputs": []
    },
    {
      "cell_type": "code",
      "metadata": {
        "id": "oMbv2Z966sqS"
      },
      "source": [
        "!nvidia-smi"
      ],
      "execution_count": null,
      "outputs": []
    },
    {
      "cell_type": "code",
      "metadata": {
        "id": "7KGzRGB_cYWe"
      },
      "source": [
        "?model.evaluate"
      ],
      "execution_count": null,
      "outputs": []
    },
    {
      "cell_type": "code",
      "metadata": {
        "id": "blrJCFp3cbby"
      },
      "source": [
        "x = np.array(ds_test)"
      ],
      "execution_count": null,
      "outputs": []
    },
    {
      "cell_type": "code",
      "metadata": {
        "id": "AoorOQd9da20"
      },
      "source": [
        "x"
      ],
      "execution_count": null,
      "outputs": []
    },
    {
      "cell_type": "code",
      "metadata": {
        "id": "HK_Y5rnldboK"
      },
      "source": [
        "?ds.take"
      ],
      "execution_count": null,
      "outputs": []
    },
    {
      "cell_type": "code",
      "metadata": {
        "colab": {
          "base_uri": "https://localhost:8080/"
        },
        "id": "uOd3bPQpkrdO",
        "outputId": "3ccacc60-9008-4c7b-92e4-58039a5a7c51"
      },
      "source": [
        "DIR = './img_train/10'\n",
        "print(sum(os.path.isfile(os.path.join(DIR, name)) for name in os.listdir(DIR)))"
      ],
      "execution_count": null,
      "outputs": [
        {
          "output_type": "stream",
          "text": [
            "500\n"
          ],
          "name": "stdout"
        }
      ]
    },
    {
      "cell_type": "code",
      "metadata": {
        "id": "lzAK-z7hknyN",
        "cellView": "form"
      },
      "source": [
        "#@title #rename the file_name to image_url\n",
        "import base64\n",
        "from icrawler import ImageDownloader\n",
        "from six.moves.urllib.parse import urlparse\n",
        "from icrawler.builtin import BaiduImageCrawler\n",
        "from icrawler.builtin import BingImageCrawler\n",
        "from icrawler.builtin import GoogleImageCrawler\n",
        "import argparse, os\n",
        "\n",
        "\n",
        "\n",
        "class Base64NameDownloader(ImageDownloader):\n",
        "    def get_filename(self, task, default_ext):\n",
        "        url_path = urlparse(task['file_url'])[2]\n",
        "        if '.' in url_path:\n",
        "            extension = url_path.split('.')[-1]\n",
        "            if extension.lower() not in [\n",
        "                    'jpg', 'jpeg', 'png', 'bmp', 'tiff', 'gif', 'ppm', 'pgm'\n",
        "            ]:\n",
        "                extension = default_ext\n",
        "        else:\n",
        "            extension = default_ext\n",
        "        # works for python 3\n",
        "        filename = base64.b64encode(url_path.encode()).decode()\n",
        "        return '{}.{}'.format(filename, extension)\n",
        "\n",
        "def get_crawler(args, dir_name):\n",
        "    if engine == \"baidu\":\n",
        "        crawler = BaiduImageCrawler(downloader_cls=Base64NameDownloader,storage={'root_dir': dir_name })\n",
        "    elif engine == \"bing\":\n",
        "        crawler = BingImageCrawler(downloader_cls=Base64NameDownloader,storage={'root_dir': dir_name })\n",
        "    elif engine == \"google\": # dont work\n",
        "        crawler = GoogleImageCrawler(storage={'root_dir': dir_name })    \n",
        "    return crawler\n",
        "\n",
        "if __name__==\"__main__\":\n",
        "    # read ini file.\n",
        "    with open('./setting.txt', mode='r', encoding = \"utf_8\") as f:\n",
        "        read_data = list(f)    \n",
        "\n",
        "    engine = \"bing\"\n",
        "    print(\"SELECTED ENGINE : \"+ \"bing\")        \n",
        "\n",
        "    for i in range(len(read_data)):\n",
        "        print(\"SEARCH WORD : \"+read_data[i].replace('\\n', ''))\n",
        "        print(\"NUM IMAGES  : \"+str(100))\n",
        "        dir_name = os.path.join(\"/content/sample_data/dataset\", read_data[i].replace('\\n', '').replace(' ', '_'))\n",
        "\n",
        "        #init crawler\n",
        "        crawler = get_crawler(\"bing\", dir_name)\n",
        "        crawler.crawl(keyword=read_data[i], max_num=10)"
      ],
      "execution_count": null,
      "outputs": []
    },
    {
      "cell_type": "code",
      "metadata": {
        "id": "eArEKVZUkqeo"
      },
      "source": [
        "os.chdir(\"/content/sample_data/\")"
      ],
      "execution_count": null,
      "outputs": []
    },
    {
      "cell_type": "code",
      "metadata": {
        "id": "j2Hes5DBq1Rk"
      },
      "source": [
        "os.chdir('../')"
      ],
      "execution_count": null,
      "outputs": []
    },
    {
      "cell_type": "code",
      "metadata": {
        "colab": {
          "base_uri": "https://localhost:8080/"
        },
        "id": "Jjmi6B1ab4Ai",
        "outputId": "e555dd48-74aa-4573-81ee-ff8c089ea4da"
      },
      "source": [
        "!pwd"
      ],
      "execution_count": null,
      "outputs": [
        {
          "output_type": "stream",
          "text": [
            "/content/sample_data\n"
          ],
          "name": "stdout"
        }
      ]
    },
    {
      "cell_type": "code",
      "metadata": {
        "colab": {
          "base_uri": "https://localhost:8080/"
        },
        "id": "U0ito_WWcAcd",
        "outputId": "9351e7a2-c35b-4a4f-96da-3eed9d7995f6"
      },
      "source": [
        "!unzip /content/dataset.zip"
      ],
      "execution_count": null,
      "outputs": [
        {
          "output_type": "stream",
          "text": [
            "Archive:  /content/dataset.zip\n",
            "   creating: dataset/different_images/\n",
            "   creating: dataset/improper_images/\n",
            "   creating: dataset/lightning/\n",
            "   creating: dataset/micro2-b/\n",
            "   creating: dataset/usb3-a/\n",
            "   creating: dataset/usb-c/\n"
          ],
          "name": "stdout"
        }
      ]
    },
    {
      "cell_type": "code",
      "metadata": {
        "id": "T0Hr2-Q7cEQG"
      },
      "source": [
        ""
      ],
      "execution_count": null,
      "outputs": []
    },
    {
      "cell_type": "markdown",
      "metadata": {
        "id": "xCH5Mt-Hq_KG"
      },
      "source": [
        "#zip the dataset and download it localy"
      ]
    },
    {
      "cell_type": "code",
      "metadata": {
        "id": "SF-hK6Pt8lDP"
      },
      "source": [
        "os.chdir('/content/sample_data/dataset')"
      ],
      "execution_count": null,
      "outputs": []
    },
    {
      "cell_type": "code",
      "metadata": {
        "colab": {
          "base_uri": "https://localhost:8080/"
        },
        "id": "eFQTt5Fk8lDP",
        "outputId": "b3084e20-732d-463f-aaa8-99c4bed87075"
      },
      "source": [
        "!zip dataset.zip ./*/*"
      ],
      "execution_count": null,
      "outputs": [
        {
          "output_type": "stream",
          "text": [
            "  adding: lightning/107543.0.jpg (deflated 3%)\n",
            "  adding: lightning/109391.0.jpg (deflated 2%)\n",
            "  adding: lightning/109759.0.jpg (deflated 3%)\n",
            "  adding: lightning/112282.0.jpg (deflated 11%)\n",
            "  adding: lightning/113018.0.jpg (deflated 2%)\n",
            "  adding: lightning/120363.0.jpg (deflated 19%)\n",
            "  adding: lightning/123331.0.jpg (deflated 2%)\n",
            "  adding: lightning/134766.0.jpg (deflated 19%)\n",
            "  adding: lightning/138221.0.jpg (deflated 1%)\n",
            "  adding: lightning/138601.0.jpg (deflated 1%)\n",
            "  adding: lightning/152685.0.jpg (deflated 2%)\n",
            "  adding: lightning/176559.0.jpg (deflated 17%)\n",
            "  adding: lightning/180329.0.jpg (deflated 10%)\n",
            "  adding: lightning/180425.0.jpg (deflated 10%)\n",
            "  adding: lightning/195816.0.jpg (deflated 2%)\n",
            "  adding: lightning/201419.0.jpg (deflated 4%)\n",
            "  adding: lightning/207386.0.jpg (deflated 30%)\n",
            "  adding: lightning/209034.0.jpg (deflated 15%)\n",
            "  adding: lightning/218630.0.jpg (deflated 30%)\n",
            "  adding: lightning/221860.0.jpg (deflated 5%)\n",
            "  adding: lightning/224970.0.jpg (deflated 2%)\n",
            "  adding: lightning/229758.0.jpg (deflated 2%)\n",
            "  adding: lightning/233305.0.jpg (deflated 8%)\n",
            "  adding: lightning/237231.0.jpg (deflated 12%)\n",
            "  adding: lightning/238748.0.jpg (deflated 40%)\n",
            "  adding: lightning/241577.0.jpg (deflated 3%)\n",
            "  adding: lightning/243383.0.jpg (deflated 1%)\n",
            "  adding: lightning/247520.0.jpg (deflated 8%)\n",
            "  adding: lightning/252929.0.jpg (deflated 2%)\n",
            "  adding: lightning/255889.0.jpg (deflated 31%)\n",
            "  adding: lightning/272548.0.jpg (deflated 19%)\n",
            "  adding: lightning/272820.0.jpg (deflated 21%)\n",
            "  adding: lightning/302510.0.jpg (deflated 3%)\n",
            "  adding: lightning/309626.0.jpg (deflated 2%)\n",
            "  adding: lightning/313834.0.jpg (deflated 11%)\n",
            "  adding: lightning/323241.0.jpg (deflated 41%)\n",
            "  adding: lightning/334570.0.jpg (deflated 12%)\n",
            "  adding: lightning/334825.0.jpg (deflated 1%)\n",
            "  adding: lightning/340161.0.jpg (deflated 10%)\n",
            "  adding: lightning/347843.0.jpg (deflated 8%)\n",
            "  adding: lightning/360439.0.jpg (deflated 5%)\n",
            "  adding: lightning/365211.0.jpg (deflated 2%)\n",
            "  adding: lightning/374856.0.jpg (deflated 3%)\n",
            "  adding: lightning/375158.0.jpg (deflated 14%)\n",
            "  adding: lightning/381966.0.jpg (deflated 7%)\n",
            "  adding: lightning/392373.0.jpg (deflated 48%)\n",
            "  adding: lightning/394330.0.jpg (deflated 7%)\n",
            "  adding: lightning/394354.0.jpg (deflated 2%)\n",
            "  adding: lightning/402524.0.jpg (deflated 2%)\n",
            "  adding: lightning/405092.0.jpg (deflated 20%)\n",
            "  adding: lightning/413362.0.jpg (deflated 4%)\n",
            "  adding: lightning/414576.0.jpg (deflated 25%)\n",
            "  adding: lightning/420837.0.jpg (deflated 14%)\n",
            "  adding: lightning/431629.0.jpg (deflated 4%)\n",
            "  adding: lightning/432431.0.jpg (deflated 11%)\n",
            "  adding: lightning/434545.0.jpg (deflated 22%)\n",
            "  adding: lightning/437462.0.jpg (deflated 13%)\n",
            "  adding: lightning/438989.0.jpg (deflated 10%)\n",
            "  adding: lightning/440871.0.jpg (deflated 6%)\n",
            "  adding: lightning/451670.0.jpg (deflated 13%)\n",
            "  adding: lightning/459561.0.jpg (deflated 13%)\n",
            "  adding: lightning/468776.0.jpg (deflated 7%)\n",
            "  adding: lightning/489444.0.jpg (deflated 0%)\n",
            "  adding: lightning/492318.0.jpg (deflated 11%)\n",
            "  adding: lightning/502371.0.jpg (deflated 0%)\n",
            "  adding: lightning/514318.0.jpg (deflated 7%)\n",
            "  adding: lightning/519363.0.jpg (deflated 10%)\n",
            "  adding: lightning/521198.0.jpg (deflated 33%)\n",
            "  adding: lightning/550199.0.jpg (deflated 24%)\n",
            "  adding: lightning/559196.0.jpg (deflated 2%)\n",
            "  adding: lightning/585138.0.jpg (deflated 38%)\n",
            "  adding: lightning/591254.0.jpg (deflated 18%)\n",
            "  adding: lightning/593451.0.jpg (deflated 4%)\n",
            "  adding: lightning/606844.0.jpg (deflated 1%)\n",
            "  adding: lightning/615362.0.jpg (deflated 5%)\n",
            "  adding: lightning/616832.0.jpg (deflated 27%)\n",
            "  adding: lightning/618233.0.jpg (deflated 33%)\n",
            "  adding: lightning/622924.0.jpg (deflated 2%)\n",
            "  adding: lightning/624254.0.jpg (deflated 22%)\n",
            "  adding: lightning/625738.0.jpg (deflated 32%)\n",
            "  adding: lightning/627657.0.jpg (deflated 9%)\n",
            "  adding: lightning/627817.0.jpg (deflated 0%)\n",
            "  adding: lightning/632559.0.jpg (deflated 3%)\n",
            "  adding: lightning/64617.0.jpg (deflated 7%)\n",
            "  adding: lightning/647819.0.jpg (deflated 1%)\n",
            "  adding: lightning/648344.0.jpg (deflated 13%)\n",
            "  adding: lightning/654783.0.jpg (deflated 0%)\n",
            "  adding: lightning/671384.0.jpg (deflated 1%)\n",
            "  adding: lightning/676801.0.jpg (deflated 4%)\n",
            "  adding: lightning/677207.0.jpg (deflated 14%)\n",
            "  adding: lightning/681603.0.jpg (deflated 5%)\n",
            "  adding: lightning/685657.0.jpg (deflated 8%)\n",
            "  adding: lightning/688107.0.jpg (deflated 4%)\n",
            "  adding: lightning/688920.0.jpg (deflated 3%)\n",
            "  adding: lightning/691424.0.jpg (deflated 12%)\n",
            "  adding: lightning/701359.0.jpg (deflated 6%)\n",
            "  adding: lightning/706285.0.jpg (deflated 9%)\n",
            "  adding: lightning/720541.0.jpg (deflated 4%)\n",
            "  adding: lightning/725510.0.jpg (deflated 13%)\n",
            "  adding: lightning/737196.0.jpg (deflated 1%)\n",
            "  adding: lightning/740562.0.jpg (deflated 2%)\n",
            "  adding: lightning/748614.0.jpg (deflated 3%)\n",
            "  adding: lightning/770141.0.jpg (deflated 4%)\n",
            "  adding: lightning/773384.0.jpg (deflated 0%)\n",
            "  adding: lightning/780740.0.jpg (deflated 1%)\n",
            "  adding: lightning/782746.0.jpg (deflated 0%)\n",
            "  adding: lightning/788739.0.jpg (deflated 22%)\n",
            "  adding: lightning/790917.0.jpg (deflated 4%)\n",
            "  adding: lightning/791652.0.jpg (deflated 18%)\n",
            "  adding: lightning/798701.0.jpg (deflated 11%)\n",
            "  adding: lightning/802786.0.jpg (deflated 27%)\n",
            "  adding: lightning/805769.0.jpg (deflated 6%)\n",
            "  adding: lightning/811060.0.jpg (deflated 30%)\n",
            "  adding: lightning/823508.0.jpg (deflated 2%)\n",
            "  adding: lightning/824251.0.jpg (deflated 8%)\n",
            "  adding: lightning/826038.0.jpg (deflated 8%)\n",
            "  adding: lightning/827976.0.jpg (deflated 12%)\n",
            "  adding: lightning/856068.0.jpg (deflated 1%)\n",
            "  adding: lightning/860546.0.jpg (deflated 3%)\n",
            "  adding: lightning/864777.0.jpg (deflated 30%)\n",
            "  adding: lightning/869262.0.jpg (deflated 22%)\n",
            "  adding: lightning/869653.0.jpg (deflated 10%)\n",
            "  adding: lightning/869855.0.jpg (deflated 5%)\n",
            "  adding: lightning/87163.0.jpg (deflated 1%)\n",
            "  adding: lightning/87198.0.jpg (deflated 34%)\n",
            "  adding: lightning/873306.0.jpg (deflated 9%)\n",
            "  adding: lightning/874972.0.jpg (deflated 4%)\n",
            "  adding: lightning/889193.0.jpg (deflated 2%)\n",
            "  adding: lightning/891418.0.jpg (deflated 0%)\n",
            "  adding: lightning/891697.0.jpg (deflated 11%)\n",
            "  adding: lightning/902950.0.jpg (deflated 8%)\n",
            "  adding: lightning/949777.0.jpg (deflated 21%)\n",
            "  adding: lightning/968554.0.jpg (deflated 4%)\n",
            "  adding: lightning/992379.0.jpg (deflated 0%)\n",
            "  adding: lightning/995776.0.jpg (deflated 4%)\n",
            "  adding: micro2-b/129728.0.jpg (deflated 34%)\n",
            "  adding: micro2-b/281153.0.jpg (deflated 41%)\n",
            "  adding: micro2-b/389584.0.jpg (deflated 7%)\n",
            "  adding: micro2-b/414605.0.jpg (deflated 6%)\n",
            "  adding: micro2-b/592378.0.jpg (deflated 3%)\n",
            "  adding: micro2-b/662453.0.jpg (deflated 40%)\n",
            "  adding: micro2-b/68692.0.jpg (deflated 5%)\n",
            "  adding: micro2-b/739554.0.jpg (deflated 29%)\n",
            "  adding: micro2-b/760605.0.jpg (deflated 5%)\n",
            "  adding: micro2-b/782219.0.jpg (deflated 10%)\n",
            "  adding: micro2-b/791023.0.jpg (deflated 34%)\n",
            "  adding: micro2-b/802907.0.jpg (deflated 15%)\n",
            "  adding: micro2-b/809455.0.jpg (deflated 27%)\n",
            "  adding: micro2-b/811009.0.jpg (deflated 37%)\n",
            "  adding: micro2-b/838779.0.jpg (deflated 7%)\n",
            "  adding: micro2-b/841085.0.jpg (deflated 7%)\n",
            "  adding: micro2-b/847045.0.jpg (deflated 5%)\n",
            "  adding: micro2-b/850643.0.jpg (deflated 15%)\n",
            "  adding: micro2-b/860152.0.jpg (deflated 34%)\n",
            "  adding: micro2-b/866295.0.jpg (deflated 23%)\n",
            "  adding: micro2-b/870709.0.jpg (deflated 18%)\n",
            "  adding: micro2-b/871890.0.jpg (deflated 26%)\n",
            "  adding: micro2-b/872613.0.jpg (deflated 6%)\n",
            "  adding: micro2-b/873096.0.jpg (deflated 2%)\n",
            "  adding: micro2-b/874100.0.jpg (deflated 1%)\n",
            "  adding: micro2-b/890982.0.jpg (deflated 3%)\n",
            "  adding: micro2-b/893811.0.jpg (deflated 26%)\n",
            "  adding: micro2-b/893894.0.jpg (deflated 23%)\n",
            "  adding: micro2-b/901927.0.jpg (deflated 5%)\n",
            "  adding: micro2-b/902578.0.jpg (deflated 7%)\n",
            "  adding: micro2-b/905299.0.jpg (deflated 9%)\n",
            "  adding: micro2-b/907328.0.jpg (deflated 4%)\n",
            "  adding: micro2-b/913329.0.jpg (deflated 9%)\n",
            "  adding: micro2-b/921562.0.jpg (deflated 5%)\n",
            "  adding: micro2-b/923546.0.jpg (deflated 11%)\n",
            "  adding: micro2-b/925042.0.jpg (deflated 5%)\n",
            "  adding: micro2-b/930525.0.jpg (deflated 11%)\n",
            "  adding: micro2-b/936304.0.jpg (deflated 1%)\n",
            "  adding: micro2-b/937005.0.jpg (deflated 26%)\n",
            "  adding: micro2-b/937754.0.jpg (deflated 2%)\n",
            "  adding: micro2-b/940150.0.jpg (deflated 26%)\n",
            "  adding: micro2-b/941889.0.jpg (deflated 32%)\n",
            "  adding: micro2-b/944438.0.jpg (deflated 25%)\n",
            "  adding: micro2-b/945481.0.jpg (deflated 4%)\n",
            "  adding: micro2-b/947925.0.jpg (deflated 21%)\n",
            "  adding: micro2-b/948755.0.jpg (deflated 20%)\n",
            "  adding: micro2-b/949095.0.jpg (deflated 26%)\n",
            "  adding: micro2-b/951473.0.jpg (deflated 21%)\n",
            "  adding: micro2-b/952071.0.jpg (deflated 6%)\n",
            "  adding: micro2-b/953672.0.jpg (deflated 3%)\n",
            "  adding: micro2-b/954244.0.jpg (deflated 40%)\n",
            "  adding: micro2-b/954290.0.jpg (deflated 20%)\n",
            "  adding: micro2-b/956077.0.jpg (deflated 31%)\n",
            "  adding: micro2-b/956369.0.jpg (deflated 7%)\n",
            "  adding: micro2-b/956525.0.jpg (deflated 24%)\n",
            "  adding: micro2-b/956956.0.jpg (deflated 4%)\n",
            "  adding: micro2-b/958674.0.jpg (deflated 2%)\n",
            "  adding: micro2-b/959527.0.jpg (deflated 17%)\n",
            "  adding: micro2-b/961452.0.jpg (deflated 11%)\n",
            "  adding: micro2-b/961654.0.jpg (deflated 16%)\n",
            "  adding: micro2-b/963009.0.jpg (deflated 15%)\n",
            "  adding: micro2-b/963285.0.jpg (deflated 26%)\n",
            "  adding: micro2-b/966006.0.jpg (deflated 10%)\n",
            "  adding: micro2-b/967804.0.jpg (deflated 9%)\n",
            "  adding: micro2-b/968413.0.jpg (deflated 14%)\n",
            "  adding: micro2-b/969838.0.jpg (deflated 0%)\n",
            "  adding: micro2-b/970229.0.jpg (deflated 13%)\n",
            "  adding: micro2-b/971015.0.jpg (deflated 18%)\n",
            "  adding: micro2-b/971986.0.jpg (deflated 13%)\n",
            "  adding: micro2-b/972121.0.jpg (deflated 23%)\n",
            "  adding: micro2-b/973263.0.jpg (deflated 12%)\n",
            "  adding: micro2-b/973771.0.jpg (deflated 8%)\n",
            "  adding: micro2-b/974520.0.jpg (deflated 19%)\n",
            "  adding: micro2-b/974613.0.jpg (deflated 2%)\n",
            "  adding: micro2-b/974710.0.jpg (deflated 12%)\n",
            "  adding: micro2-b/974811.0.jpg (deflated 13%)\n",
            "  adding: micro2-b/975284.0.jpg (deflated 32%)\n",
            "  adding: micro2-b/976184.0.jpg (deflated 0%)\n",
            "  adding: micro2-b/977865.0.jpg (deflated 26%)\n",
            "  adding: micro2-b/978131.0.jpg (deflated 18%)\n",
            "  adding: micro2-b/978233.0.jpg (deflated 14%)\n",
            "  adding: micro2-b/978939.0.jpg (deflated 19%)\n",
            "  adding: micro2-b/979616.0.jpg (deflated 6%)\n",
            "  adding: micro2-b/979855.0.jpg (deflated 0%)\n",
            "  adding: micro2-b/979859.0.jpg (deflated 13%)\n",
            "  adding: micro2-b/980061.0.jpg (deflated 7%)\n",
            "  adding: micro2-b/980095.0.jpg (deflated 5%)\n",
            "  adding: micro2-b/981586.0.jpg (deflated 3%)\n",
            "  adding: micro2-b/981787.0.jpg (deflated 8%)\n",
            "  adding: micro2-b/981802.0.jpg (deflated 8%)\n",
            "  adding: micro2-b/982046.0.jpg (deflated 5%)\n",
            "  adding: micro2-b/982780.0.jpg (deflated 11%)\n",
            "  adding: micro2-b/983060.0.jpg (deflated 0%)\n",
            "  adding: micro2-b/983276.0.jpg (deflated 15%)\n",
            "  adding: micro2-b/983337.0.jpg (deflated 7%)\n",
            "  adding: micro2-b/983843.0.jpg (deflated 14%)\n",
            "  adding: micro2-b/984378.0.jpg (deflated 5%)\n",
            "  adding: micro2-b/984994.0.jpg (deflated 8%)\n",
            "  adding: micro2-b/985086.0.jpg (deflated 5%)\n",
            "  adding: micro2-b/985593.0.jpg (deflated 24%)\n",
            "  adding: micro2-b/985838.0.jpg (deflated 0%)\n",
            "  adding: micro2-b/985847.0.jpg (deflated 19%)\n",
            "  adding: micro2-b/986236.0.jpg (deflated 17%)\n",
            "  adding: micro2-b/986286.0.jpg (deflated 8%)\n",
            "  adding: micro2-b/986595.0.jpg (deflated 9%)\n",
            "  adding: micro2-b/986767.0.jpg (deflated 16%)\n",
            "  adding: micro2-b/986827.0.jpg (deflated 17%)\n",
            "  adding: micro2-b/987161.0.jpg (deflated 18%)\n",
            "  adding: micro2-b/987420.0.jpg (deflated 24%)\n",
            "  adding: micro2-b/987859.0.jpg (deflated 3%)\n",
            "  adding: micro2-b/987958.0.jpg (deflated 4%)\n",
            "  adding: micro2-b/989299.0.jpg (deflated 22%)\n",
            "  adding: micro2-b/989690.0.jpg (deflated 6%)\n",
            "  adding: micro2-b/989696.0.jpg (deflated 1%)\n",
            "  adding: micro2-b/989933.0.jpg (deflated 6%)\n",
            "  adding: micro2-b/990276.0.jpg (deflated 14%)\n",
            "  adding: micro2-b/990468.0.jpg (deflated 9%)\n",
            "  adding: micro2-b/991774.0.jpg (deflated 7%)\n",
            "  adding: micro2-b/992149.0.jpg (deflated 5%)\n",
            "  adding: micro2-b/992380.0.jpg (deflated 9%)\n",
            "  adding: micro2-b/992569.0.jpg (deflated 6%)\n",
            "  adding: micro2-b/992658.0.jpg (deflated 8%)\n",
            "  adding: micro2-b/992768.0.jpg (deflated 8%)\n",
            "  adding: micro2-b/992796.0.jpg (deflated 0%)\n",
            "  adding: micro2-b/993735.0.jpg (deflated 1%)\n",
            "  adding: micro2-b/993828.0.jpg (deflated 6%)\n",
            "  adding: micro2-b/993900.0.jpg (deflated 3%)\n",
            "  adding: micro2-b/993922.0.jpg (deflated 16%)\n",
            "  adding: micro2-b/993963.0.jpg (deflated 3%)\n",
            "  adding: micro2-b/994089.0.jpg (deflated 2%)\n",
            "  adding: micro2-b/994828.0.jpg (deflated 16%)\n",
            "  adding: micro2-b/997387.0.jpg (deflated 3%)\n",
            "  adding: usb-c/118273.0.jpg (deflated 12%)\n",
            "  adding: usb-c/141335.0.jpg (deflated 0%)\n",
            "  adding: usb-c/155759.0.jpg (deflated 8%)\n",
            "  adding: usb-c/169348.0.jpg (deflated 15%)\n",
            "  adding: usb-c/202785.0.jpg (deflated 5%)\n",
            "  adding: usb-c/224349.0.jpg (deflated 6%)\n",
            "  adding: usb-c/237922.0.jpg (deflated 2%)\n",
            "  adding: usb-c/254896.0.jpg (deflated 8%)\n",
            "  adding: usb-c/260431.0.jpg (deflated 2%)\n",
            "  adding: usb-c/263416.0.jpg (deflated 7%)\n",
            "  adding: usb-c/279184.0.jpg (deflated 17%)\n",
            "  adding: usb-c/292879.0.jpg (deflated 10%)\n",
            "  adding: usb-c/296172.0.jpg (deflated 7%)\n",
            "  adding: usb-c/297334.0.jpg (deflated 9%)\n",
            "  adding: usb-c/311464.0.jpg (deflated 2%)\n",
            "  adding: usb-c/314946.0.jpg (deflated 19%)\n",
            "  adding: usb-c/315405.0.jpg (deflated 15%)\n",
            "  adding: usb-c/400012.0.jpg (deflated 19%)\n",
            "  adding: usb-c/44262.0.jpg (deflated 1%)\n",
            "  adding: usb-c/443449.0.jpg (deflated 1%)\n",
            "  adding: usb-c/448948.0.jpg (deflated 13%)\n",
            "  adding: usb-c/471372.0.jpg (deflated 26%)\n",
            "  adding: usb-c/48057.0.jpg (deflated 29%)\n",
            "  adding: usb-c/486235.0.jpg (deflated 10%)\n",
            "  adding: usb-c/498906.0.jpg (deflated 0%)\n",
            "  adding: usb-c/526877.0.jpg (deflated 20%)\n",
            "  adding: usb-c/533943.0.jpg (deflated 18%)\n",
            "  adding: usb-c/542080.0.jpg (deflated 6%)\n",
            "  adding: usb-c/544807.0.jpg (deflated 22%)\n",
            "  adding: usb-c/549037.0.jpg (deflated 12%)\n",
            "  adding: usb-c/550861.0.jpg (deflated 1%)\n",
            "  adding: usb-c/554381.0.jpg (deflated 8%)\n",
            "  adding: usb-c/557192.0.jpg (deflated 2%)\n",
            "  adding: usb-c/560368.0.jpg (deflated 11%)\n",
            "  adding: usb-c/574313.0.jpg (deflated 12%)\n",
            "  adding: usb-c/581065.0.jpg (deflated 4%)\n",
            "  adding: usb-c/604180.0.jpg (deflated 17%)\n",
            "  adding: usb-c/607030.0.jpg (deflated 15%)\n",
            "  adding: usb-c/609104.0.jpg (deflated 27%)\n",
            "  adding: usb-c/612814.0.jpg (deflated 11%)\n",
            "  adding: usb-c/616150.0.jpg (deflated 9%)\n",
            "  adding: usb-c/620686.0.jpg (deflated 5%)\n",
            "  adding: usb-c/626978.0.jpg (deflated 11%)\n",
            "  adding: usb-c/632761.0.jpg (deflated 1%)\n",
            "  adding: usb-c/644381.0.jpg (deflated 0%)\n",
            "  adding: usb-c/656495.0.jpg (deflated 41%)\n",
            "  adding: usb-c/658104.0.jpg (deflated 14%)\n",
            "  adding: usb-c/661655.0.jpg (deflated 4%)\n",
            "  adding: usb-c/674299.0.jpg (deflated 5%)\n",
            "  adding: usb-c/679237.0.jpg (deflated 10%)\n",
            "  adding: usb-c/701083.0.jpg (deflated 7%)\n",
            "  adding: usb-c/702968.0.jpg (deflated 2%)\n",
            "  adding: usb-c/709615.0.jpg (deflated 14%)\n",
            "  adding: usb-c/722255.0.jpg (deflated 10%)\n",
            "  adding: usb-c/727466.0.jpg (deflated 11%)\n",
            "  adding: usb-c/735180.0.jpg (deflated 0%)\n",
            "  adding: usb-c/743529.0.jpg (deflated 37%)\n",
            "  adding: usb-c/743777.0.jpg (deflated 0%)\n",
            "  adding: usb-c/745800.0.jpg (deflated 8%)\n",
            "  adding: usb-c/761045.0.jpg (deflated 7%)\n",
            "  adding: usb-c/766251.0.jpg (deflated 10%)\n",
            "  adding: usb-c/806049.0.jpg (deflated 4%)\n",
            "  adding: usb-c/815903.0.jpg (deflated 1%)\n",
            "  adding: usb-c/819078.0.jpg (deflated 8%)\n",
            "  adding: usb-c/821744.0.jpg (deflated 26%)\n",
            "  adding: usb-c/825000.0.jpg (deflated 14%)\n",
            "  adding: usb-c/825247.0.jpg (deflated 28%)\n",
            "  adding: usb-c/829302.0.jpg (deflated 21%)\n",
            "  adding: usb-c/829590.0.jpg (deflated 21%)\n",
            "  adding: usb-c/829687.0.jpg (deflated 17%)\n",
            "  adding: usb-c/833785.0.jpg (deflated 19%)\n",
            "  adding: usb-c/834787.0.jpg (deflated 4%)\n",
            "  adding: usb-c/836890.0.jpg (deflated 12%)\n",
            "  adding: usb-c/846340.0.jpg (deflated 4%)\n",
            "  adding: usb-c/847548.0.jpg (deflated 2%)\n",
            "  adding: usb-c/852378.0.jpg (deflated 3%)\n",
            "  adding: usb-c/859806.0.jpg (deflated 22%)\n",
            "  adding: usb-c/867227.0.jpg (deflated 7%)\n",
            "  adding: usb-c/869329.0.jpg (deflated 14%)\n",
            "  adding: usb-c/873403.0.jpg (deflated 13%)\n",
            "  adding: usb-c/873508.0.jpg (deflated 4%)\n",
            "  adding: usb-c/884096.0.jpg (deflated 10%)\n",
            "  adding: usb-c/887508.0.jpg (deflated 15%)\n",
            "  adding: usb-c/889351.0.jpg (deflated 24%)\n",
            "  adding: usb-c/890151.0.jpg (deflated 4%)\n",
            "  adding: usb-c/899454.0.jpg (deflated 5%)\n",
            "  adding: usb-c/899627.0.jpg (deflated 7%)\n",
            "  adding: usb-c/900877.0.jpg (deflated 9%)\n",
            "  adding: usb-c/903060.0.jpg (deflated 1%)\n",
            "  adding: usb-c/914099.0.jpg (deflated 13%)\n",
            "  adding: usb-c/916760.0.jpg (deflated 23%)\n",
            "  adding: usb-c/916954.0.jpg (deflated 15%)\n",
            "  adding: usb-c/921595.0.jpg (deflated 58%)\n",
            "  adding: usb-c/921630.0.jpg (deflated 0%)\n",
            "  adding: usb-c/921935.0.jpg (deflated 25%)\n",
            "  adding: usb-c/923755.0.jpg (deflated 15%)\n",
            "  adding: usb-c/927261.0.jpg (deflated 11%)\n",
            "  adding: usb-c/928646.0.jpg (deflated 26%)\n",
            "  adding: usb-c/929116.0.jpg (deflated 3%)\n",
            "  adding: usb-c/929997.0.jpg (deflated 16%)\n",
            "  adding: usb-c/932328.0.jpg (deflated 7%)\n",
            "  adding: usb-c/942443.0.jpg (deflated 6%)\n",
            "  adding: usb-c/947305.0.jpg (deflated 8%)\n",
            "  adding: usb-c/949027.0.jpg (deflated 2%)\n",
            "  adding: usb-c/954345.0.jpg (deflated 3%)\n",
            "  adding: usb-c/957473.0.jpg (deflated 21%)\n",
            "  adding: usb-c/963195.0.jpg (deflated 12%)\n",
            "  adding: usb-c/964474.0.jpg (deflated 9%)\n",
            "  adding: usb-c/965375.0.jpg (deflated 1%)\n",
            "  adding: usb-c/966254.0.jpg (deflated 3%)\n",
            "  adding: usb-c/969482.0.jpg (deflated 6%)\n",
            "  adding: usb-c/970058.0.jpg (deflated 3%)\n",
            "  adding: usb-c/973410.0.jpg (deflated 19%)\n",
            "  adding: usb-c/974470.0.jpg (deflated 8%)\n",
            "  adding: usb-c/975270.0.jpg (deflated 0%)\n",
            "  adding: usb-c/975420.0.jpg (deflated 13%)\n",
            "  adding: usb-c/981194.0.jpg (deflated 9%)\n",
            "  adding: usb-c/982011.0.jpg (deflated 14%)\n",
            "  adding: usb-c/984595.0.jpg (deflated 9%)\n",
            "  adding: usb-c/986607.0.jpg (deflated 16%)\n",
            "  adding: usb-c/987009.0.jpg (deflated 4%)\n",
            "  adding: usb-c/989193.0.jpg (deflated 0%)\n",
            "  adding: usb-c/990936.0.jpg (deflated 11%)\n",
            "  adding: usb-c/991450.0.jpg (deflated 27%)\n",
            "  adding: usb-c/992632.0.jpg (deflated 1%)\n"
          ],
          "name": "stdout"
        }
      ]
    },
    {
      "cell_type": "code",
      "metadata": {
        "colab": {
          "base_uri": "https://localhost:8080/"
        },
        "id": "jemwygk4rZdq",
        "outputId": "aac5d9f8-2b1d-4a80-8f66-3448d6981c6d"
      },
      "source": [
        "from google.colab import files\n",
        "files.download('dataset.zip')"
      ],
      "execution_count": null,
      "outputs": [
        {
          "output_type": "display_data",
          "data": {
            "application/javascript": [
              "\n",
              "    async function download(id, filename, size) {\n",
              "      if (!google.colab.kernel.accessAllowed) {\n",
              "        return;\n",
              "      }\n",
              "      const div = document.createElement('div');\n",
              "      const label = document.createElement('label');\n",
              "      label.textContent = `Downloading \"${filename}\": `;\n",
              "      div.appendChild(label);\n",
              "      const progress = document.createElement('progress');\n",
              "      progress.max = size;\n",
              "      div.appendChild(progress);\n",
              "      document.body.appendChild(div);\n",
              "\n",
              "      const buffers = [];\n",
              "      let downloaded = 0;\n",
              "\n",
              "      const channel = await google.colab.kernel.comms.open(id);\n",
              "      // Send a message to notify the kernel that we're ready.\n",
              "      channel.send({})\n",
              "\n",
              "      for await (const message of channel.messages) {\n",
              "        // Send a message to notify the kernel that we're ready.\n",
              "        channel.send({})\n",
              "        if (message.buffers) {\n",
              "          for (const buffer of message.buffers) {\n",
              "            buffers.push(buffer);\n",
              "            downloaded += buffer.byteLength;\n",
              "            progress.value = downloaded;\n",
              "          }\n",
              "        }\n",
              "      }\n",
              "      const blob = new Blob(buffers, {type: 'application/binary'});\n",
              "      const a = document.createElement('a');\n",
              "      a.href = window.URL.createObjectURL(blob);\n",
              "      a.download = filename;\n",
              "      div.appendChild(a);\n",
              "      a.click();\n",
              "      div.remove();\n",
              "    }\n",
              "  "
            ],
            "text/plain": [
              "<IPython.core.display.Javascript object>"
            ]
          },
          "metadata": {
            "tags": []
          }
        },
        {
          "output_type": "display_data",
          "data": {
            "application/javascript": [
              "download(\"download_249a76c9-71d8-4fe7-be1f-ff55fc896864\", \"dataset.zip\", 36929598)"
            ],
            "text/plain": [
              "<IPython.core.display.Javascript object>"
            ]
          },
          "metadata": {
            "tags": []
          }
        }
      ]
    }
  ]
}